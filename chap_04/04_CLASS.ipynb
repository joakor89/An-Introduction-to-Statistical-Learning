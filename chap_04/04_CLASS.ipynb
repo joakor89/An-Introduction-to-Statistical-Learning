{
 "cells": [
  {
   "cell_type": "markdown",
   "id": "7063f906-58d6-438a-adfb-89327a1097a9",
   "metadata": {},
   "source": [
    "# Classification\n",
    "\n",
    "### Loading Libraries"
   ]
  },
  {
   "cell_type": "code",
   "execution_count": 1,
   "id": "4047f5a8-8c25-48f2-acda-a07f985f3972",
   "metadata": {},
   "outputs": [],
   "source": [
    "# Numerical Computing\n",
    "import numpy as np\n",
    "\n",
    "# Data Manipulation\n",
    "import pandas as pd\n",
    "\n",
    "# Data Visualization\n",
    "import matplotlib.pyplot as plt\n",
    "from matplotlib .pyplot import subplots\n",
    "\n",
    "# StatsModel\n",
    "import statsmodels .api as sm\n",
    "\n",
    "# Scikit-Learn\n",
    "from sklearn. discriminant_analysis import \\\n",
    "( LinearDiscriminantAnalysis as LDA ,\n",
    "QuadraticDiscriminantAnalysis as QDA)\n",
    "\n",
    "from sklearn. naive_bayes import GaussianNB\n",
    "from sklearn. neighbors import KNeighborsClassifier\n",
    "from sklearn. preprocessing import StandardScaler\n",
    "from sklearn. model_selection import train_test_split"
   ]
  },
  {
   "cell_type": "code",
   "execution_count": 2,
   "id": "65a44bd5-39d9-47b4-ba7e-46bd519d790d",
   "metadata": {},
   "outputs": [],
   "source": [
    "# Custom Libraries\n",
    "from ISLP import load_data\n",
    "from ISLP import confusion_table\n",
    "from ISLP.models import contrast\n",
    "from ISLP.models import ( ModelSpec as MS ,\n",
    "summarize )"
   ]
  },
  {
   "cell_type": "markdown",
   "id": "7e374356-5e38-417e-b31f-8ccb4f88445d",
   "metadata": {},
   "source": [
    "## Logistic Regression, LDA, QDA, & KNN\n",
    "\n",
    "### The Stock Market Data"
   ]
  },
  {
   "cell_type": "code",
   "execution_count": null,
   "id": "3b6e275f-8716-4dfc-94a1-3b1a9dbc896e",
   "metadata": {},
   "outputs": [],
   "source": []
  },
  {
   "cell_type": "code",
   "execution_count": null,
   "id": "f8076979-3693-4c25-81d8-4286abd9263a",
   "metadata": {},
   "outputs": [],
   "source": []
  },
  {
   "cell_type": "code",
   "execution_count": null,
   "id": "7ebc8078-3d21-4353-bd51-180acfd80786",
   "metadata": {},
   "outputs": [],
   "source": []
  },
  {
   "cell_type": "code",
   "execution_count": null,
   "id": "9d6e8ee7-e8b4-4b9d-9551-40c9ca515986",
   "metadata": {},
   "outputs": [],
   "source": []
  },
  {
   "cell_type": "code",
   "execution_count": null,
   "id": "47d847ee-7a8f-4ebf-95a6-b5c1275c57e9",
   "metadata": {},
   "outputs": [],
   "source": []
  },
  {
   "cell_type": "code",
   "execution_count": null,
   "id": "5bbea315-a8e3-433d-b76f-6dee5e4b6d06",
   "metadata": {},
   "outputs": [],
   "source": []
  },
  {
   "cell_type": "code",
   "execution_count": null,
   "id": "7f7d97e5-78cd-444e-88a5-d60c7ec25ed9",
   "metadata": {},
   "outputs": [],
   "source": []
  },
  {
   "cell_type": "code",
   "execution_count": null,
   "id": "87ee2266-d447-4940-9e4a-900995eb9d63",
   "metadata": {},
   "outputs": [],
   "source": []
  },
  {
   "cell_type": "code",
   "execution_count": null,
   "id": "fb2b7cc6-da57-4d4e-9899-e05244d18ce8",
   "metadata": {},
   "outputs": [],
   "source": []
  },
  {
   "cell_type": "code",
   "execution_count": null,
   "id": "3ae78d9a-6de0-4b3c-a429-79047d71e291",
   "metadata": {},
   "outputs": [],
   "source": []
  },
  {
   "cell_type": "code",
   "execution_count": null,
   "id": "e96fbcc9-29aa-4a30-819f-9c8225c6b5cd",
   "metadata": {},
   "outputs": [],
   "source": []
  },
  {
   "cell_type": "code",
   "execution_count": null,
   "id": "e9482e02-05c1-4736-83b2-afa957dc3e71",
   "metadata": {},
   "outputs": [],
   "source": []
  },
  {
   "cell_type": "code",
   "execution_count": null,
   "id": "e02d9d5b-c168-43e8-b815-f8cdd1b62ab6",
   "metadata": {},
   "outputs": [],
   "source": []
  }
 ],
 "metadata": {
  "kernelspec": {
   "display_name": "Python [conda env:ISLP] *",
   "language": "python",
   "name": "conda-env-ISLP-py"
  },
  "language_info": {
   "codemirror_mode": {
    "name": "ipython",
    "version": 3
   },
   "file_extension": ".py",
   "mimetype": "text/x-python",
   "name": "python",
   "nbconvert_exporter": "python",
   "pygments_lexer": "ipython3",
   "version": "3.10.18"
  }
 },
 "nbformat": 4,
 "nbformat_minor": 5
}
