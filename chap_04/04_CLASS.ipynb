version https://git-lfs.github.com/spec/v1
oid sha256:8f398bdccb0703a9bb77c55ad0dea675e7adddb63b952b3ed98947601a6e09bf
size 382256
