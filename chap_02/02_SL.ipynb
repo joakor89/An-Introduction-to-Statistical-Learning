{
 "cells": [
  {
   "cell_type": "markdown",
   "id": "6a7cef02-1d1f-4451-8aaf-ecbe3daae7cd",
   "metadata": {},
   "source": [
    "# Statistical Learning\n",
    "\n",
    "### Loading Libraries"
   ]
  },
  {
   "cell_type": "code",
   "execution_count": 1,
   "id": "fd5167b9-4427-45b7-89e6-0847fed0d78e",
   "metadata": {},
   "outputs": [],
   "source": [
    "# Numerical Computing\n",
    "import numpy as np\n",
    "\n",
    "# Data Manipulation\n",
    "import pandas as pd\n",
    "\n",
    "# Data Visualization\n",
    "import seaborn as sns\n",
    "import matplotlib.pyplot as plt\n"
   ]
  },
  {
   "cell_type": "markdown",
   "id": "f2772458-4df2-46c9-a1b5-6e419aea5974",
   "metadata": {},
   "source": [
    "#### Basic Commands"
   ]
  },
  {
   "cell_type": "code",
   "execution_count": 2,
   "id": "bc9057db-1b87-422b-bee9-079da00ea3fa",
   "metadata": {},
   "outputs": [
    {
     "name": "stdout",
     "output_type": "stream",
     "text": [
      "fit a model with  11 variables \n"
     ]
    }
   ],
   "source": [
    "print('fit a model with ', 11, 'variables ')"
   ]
  },
  {
   "cell_type": "code",
   "execution_count": 3,
   "id": "0e4f1d9c-3bc9-4397-aa21-8ffee50a7d64",
   "metadata": {},
   "outputs": [
    {
     "data": {
      "text/plain": [
       "\u001b[0;31mDocstring:\u001b[0m\n",
       "print(value, ..., sep=' ', end='\\n', file=sys.stdout, flush=False)\n",
       "\n",
       "Prints the values to a stream, or to sys.stdout by default.\n",
       "Optional keyword arguments:\n",
       "file:  a file-like object (stream); defaults to the current sys.stdout.\n",
       "sep:   string inserted between values, default a space.\n",
       "end:   string appended after the last value, default a newline.\n",
       "flush: whether to forcibly flush the stream.\n",
       "\u001b[0;31mType:\u001b[0m      builtin_function_or_method"
      ]
     },
     "metadata": {},
     "output_type": "display_data"
    }
   ],
   "source": [
    "print?"
   ]
  },
  {
   "cell_type": "code",
   "execution_count": 4,
   "id": "26c5256d-5ff1-4c4c-9c65-68052cf695e3",
   "metadata": {},
   "outputs": [
    {
     "data": {
      "text/plain": [
       "8"
      ]
     },
     "execution_count": 4,
     "metadata": {},
     "output_type": "execute_result"
    }
   ],
   "source": [
    "3 + 5"
   ]
  },
  {
   "cell_type": "code",
   "execution_count": 5,
   "id": "10df1671-1cc1-4273-b63f-0aec52c97096",
   "metadata": {},
   "outputs": [
    {
     "data": {
      "text/plain": [
       "'hello world'"
      ]
     },
     "execution_count": 5,
     "metadata": {},
     "output_type": "execute_result"
    }
   ],
   "source": [
    "\"hello\" + \" \" + \"world\""
   ]
  },
  {
   "cell_type": "code",
   "execution_count": 7,
   "id": "5a99bcc3-3d33-486b-9822-251be7a02074",
   "metadata": {},
   "outputs": [
    {
     "data": {
      "text/plain": [
       "[3, 4, 5]"
      ]
     },
     "execution_count": 7,
     "metadata": {},
     "output_type": "execute_result"
    }
   ],
   "source": [
    "x = [3, 4, 5]\n",
    "\n",
    "x"
   ]
  },
  {
   "cell_type": "code",
   "execution_count": 8,
   "id": "29fb578a-b7e1-4b76-b2ee-9bf0c4abacad",
   "metadata": {},
   "outputs": [
    {
     "data": {
      "text/plain": [
       "[3, 4, 5, 4, 9, 7]"
      ]
     },
     "execution_count": 8,
     "metadata": {},
     "output_type": "execute_result"
    }
   ],
   "source": [
    "y = [4, 9, 7]\n",
    "\n",
    "x + y"
   ]
  },
  {
   "cell_type": "markdown",
   "id": "75d4165d-5342-4806-b55a-99b0c6645d42",
   "metadata": {},
   "source": [
    "### Introduction to Numerical Python"
   ]
  },
  {
   "cell_type": "code",
   "execution_count": null,
   "id": "ccfcd7be-0202-4b54-82fe-61204d33f071",
   "metadata": {},
   "outputs": [],
   "source": []
  },
  {
   "cell_type": "code",
   "execution_count": null,
   "id": "0ab9f4df-2270-49d0-9b7a-c3753fd229a0",
   "metadata": {},
   "outputs": [],
   "source": []
  },
  {
   "cell_type": "code",
   "execution_count": null,
   "id": "ff5663c2-b5a2-404a-acc2-f6677b12235c",
   "metadata": {},
   "outputs": [],
   "source": []
  },
  {
   "cell_type": "code",
   "execution_count": null,
   "id": "9da8fa3d-e77b-46ec-a023-0485083abb18",
   "metadata": {},
   "outputs": [],
   "source": []
  },
  {
   "cell_type": "code",
   "execution_count": null,
   "id": "ebcff5d9-fb30-467a-abab-f4d7e71b8501",
   "metadata": {},
   "outputs": [],
   "source": []
  },
  {
   "cell_type": "code",
   "execution_count": null,
   "id": "bc63bad7-cfb7-415f-a640-2307f0f2d9ce",
   "metadata": {},
   "outputs": [],
   "source": []
  },
  {
   "cell_type": "code",
   "execution_count": null,
   "id": "138cefb4-49e6-49bd-b775-8f389110a17b",
   "metadata": {},
   "outputs": [],
   "source": []
  },
  {
   "cell_type": "code",
   "execution_count": null,
   "id": "7cbeeede-3d85-45eb-a125-18ccc96d1b96",
   "metadata": {},
   "outputs": [],
   "source": []
  },
  {
   "cell_type": "code",
   "execution_count": null,
   "id": "b90d7529-bdaa-4b2f-b514-fad8fa47050f",
   "metadata": {},
   "outputs": [],
   "source": []
  },
  {
   "cell_type": "code",
   "execution_count": null,
   "id": "a1d37388-1c11-4457-bb60-95f12ad4a566",
   "metadata": {},
   "outputs": [],
   "source": []
  }
 ],
 "metadata": {
  "kernelspec": {
   "display_name": "Python (MTSP)",
   "language": "python",
   "name": "mtsp"
  },
  "language_info": {
   "codemirror_mode": {
    "name": "ipython",
    "version": 3
   },
   "file_extension": ".py",
   "mimetype": "text/x-python",
   "name": "python",
   "nbconvert_exporter": "python",
   "pygments_lexer": "ipython3",
   "version": "3.10.18"
  }
 },
 "nbformat": 4,
 "nbformat_minor": 5
}
