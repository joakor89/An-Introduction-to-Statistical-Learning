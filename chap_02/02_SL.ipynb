version https://git-lfs.github.com/spec/v1
oid sha256:7560c4e730882f74fb52e3db99778381aac01c6c2688155396a70fd6071df4b1
size 1672222
