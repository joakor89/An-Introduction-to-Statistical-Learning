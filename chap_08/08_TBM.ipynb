{
 "cells": [
  {
   "cell_type": "markdown",
   "id": "0",
   "metadata": {},
   "source": [
    "# Tree-Based Methods\n",
    "\n",
    "### Loading Libraries"
   ]
  },
  {
   "cell_type": "code",
   "execution_count": null,
   "id": "1",
   "metadata": {},
   "outputs": [],
   "source": [
    "# Numerical Computing\n",
    "import numpy as np\n",
    "\n",
    "# Data Manipulation\n",
    "import pandas as pd\n",
    "\n",
    "# Data Visualization\n",
    "import matplotlib.pyplot as plt\n",
    "from matplotlib.pyplot import subplots\n",
    "\n",
    "# StatsModels\n",
    "from statsmodels.datasets import get_rdataset\n",
    "\n",
    "# Scikit-Learn\n",
    "import sklearn. model_selection as skm\n",
    "from sklearn.metrics import (accuracy_score, log_loss)\n",
    "from sklearn. ensemble import(RandomForestRegressor as RF, GradientBoostingRegressor as GBR)\n",
    "from sklearn.tree import (DecisionTreeClassifier as DTC, DecisionTreeRegressor as DTR, plot_tree, export_text)\n",
    "\n",
    "# ISLP\n",
    "from ISLP.bart import BART\n",
    "from ISLP.models import ModelSpec as MS\n",
    "from ISLP import load_data, confusion_table"
   ]
  },
  {
   "cell_type": "markdown",
   "id": "2",
   "metadata": {},
   "source": [
    "### Fitting Classification Trees"
   ]
  },
  {
   "cell_type": "code",
   "execution_count": null,
   "id": "3",
   "metadata": {},
   "outputs": [],
   "source": [
    "Carseats = load_data ('Carseats')\n",
    "\n",
    "High = np.where(Carseats.Sales > 8,\n",
    "                \"Yes\",\n",
    "                \"No\")"
   ]
  },
  {
   "cell_type": "code",
   "execution_count": null,
   "id": "4",
   "metadata": {},
   "outputs": [],
   "source": [
    "model = MS(Carseats .columns.drop('Sales'), intercept =False)\n",
    "\n",
    "D = model.fit_transform(Carseats)\n",
    "feature_names = list(D.columns)\n",
    "X = np.asarray(D)"
   ]
  },
  {
   "cell_type": "code",
   "execution_count": null,
   "id": "5",
   "metadata": {},
   "outputs": [],
   "source": [
    "clf = DTC(criterion='entropy',\n",
    "          max_depth=3,\n",
    "          random_state=0)\n",
    "\n",
    "clf.fit(X, High)"
   ]
  },
  {
   "cell_type": "code",
   "execution_count": null,
   "id": "6",
   "metadata": {},
   "outputs": [],
   "source": [
    "accuracy_score(High, clf.predict(X))"
   ]
  },
  {
   "cell_type": "code",
   "execution_count": null,
   "id": "7",
   "metadata": {},
   "outputs": [],
   "source": [
    "resid_dev = np.sum(log_loss(High, clf.predict_proba(X)))\n",
    "resid_dev"
   ]
  },
  {
   "cell_type": "code",
   "execution_count": null,
   "id": "8",
   "metadata": {},
   "outputs": [],
   "source": [
    "ax = subplots(figsize=(12 ,12))[1]\n",
    "\n",
    "plot_tree (clf,\n",
    "           feature_names =feature_names,\n",
    "           ax=ax);"
   ]
  },
  {
   "cell_type": "code",
   "execution_count": null,
   "id": "9",
   "metadata": {},
   "outputs": [],
   "source": [
    "print(export_text(clf,\n",
    "                  feature_names=feature_names,\n",
    "                  show_weights=True))"
   ]
  },
  {
   "cell_type": "code",
   "execution_count": null,
   "id": "10",
   "metadata": {},
   "outputs": [],
   "source": [
    "validation = skm.ShuffleSplit(n_splits=1,\n",
    "                              test_size=200,\n",
    "                              random_state=0)\n",
    "\n",
    "results = skm.cross_validate(clf,\n",
    "                             D,\n",
    "                             High,\n",
    "                             cv=validation)\n",
    "\n",
    "results['test_score']"
   ]
  },
  {
   "cell_type": "code",
   "execution_count": null,
   "id": "11",
   "metadata": {},
   "outputs": [],
   "source": [
    "(X_train,\n",
    " X_test,\n",
    " High_train,\n",
    " High_test)=skm.train_test_split(X,\n",
    "                                 High,\n",
    "                                 test_size=0.5,\n",
    "                                 random_state=0)"
   ]
  },
  {
   "cell_type": "code",
   "execution_count": null,
   "id": "12",
   "metadata": {},
   "outputs": [],
   "source": [
    "clf = DTC(criterion ='entropy', random_state =0)\n",
    "clf.fit(X_train, High_train)\n",
    "\n",
    "accuracy_score(High_test, clf.predict(X_test))"
   ]
  },
  {
   "cell_type": "code",
   "execution_count": null,
   "id": "13",
   "metadata": {},
   "outputs": [],
   "source": [
    "ccp_path = clf.cost_complexity_pruning_path(X_train, High_train)\n",
    "\n",
    "kfold = skm.KFold(10,\n",
    "                  random_state=1,\n",
    "                  shuffle=True)"
   ]
  },
  {
   "cell_type": "code",
   "execution_count": null,
   "id": "14",
   "metadata": {},
   "outputs": [],
   "source": [
    "grid = skm.GridSearchCV(clf,\n",
    "                        {'ccp_alpha': ccp_path.ccp_alphas},\n",
    "                        refit=True,\n",
    "                        cv=kfold,\n",
    "                        scoring='accuracy')\n",
    "\n",
    "grid.fit(X_train, High_train)\n",
    "grid.best_score_"
   ]
  },
  {
   "cell_type": "code",
   "execution_count": null,
   "id": "15",
   "metadata": {},
   "outputs": [],
   "source": [
    "ax = subplots(figsize =(12, 12))[1]\n",
    "\n",
    "best_ = grid.best_estimator_\n",
    "plot_tree(best_,\n",
    "          feature_names=feature_names,\n",
    "          ax=ax);"
   ]
  },
  {
   "cell_type": "code",
   "execution_count": null,
   "id": "16",
   "metadata": {},
   "outputs": [],
   "source": [
    "best_.tree_.n_leaves"
   ]
  },
  {
   "cell_type": "code",
   "execution_count": null,
   "id": "17",
   "metadata": {},
   "outputs": [],
   "source": [
    "print(accuracy_score(High_test,\n",
    "                     best_.predict(X_test)))\n",
    "\n",
    "confusion = confusion_table(best_.predict(X_test),\n",
    "                            High_test)\n",
    "\n",
    "confusion"
   ]
  },
  {
   "cell_type": "markdown",
   "id": "18",
   "metadata": {},
   "source": [
    "### Fitting Regression Trees"
   ]
  },
  {
   "cell_type": "code",
   "execution_count": null,
   "id": "19",
   "metadata": {},
   "outputs": [],
   "source": [
    "Boston = load_data (\"Boston\")\n",
    "\n",
    "model = MS(Boston.columns.drop('medv'), intercept =False)\n",
    "\n",
    "D = model. fit_transform (Boston)\n",
    "feature_names = list(D.columns)\n",
    "X = np.asarray(D)"
   ]
  },
  {
   "cell_type": "code",
   "execution_count": null,
   "id": "20",
   "metadata": {},
   "outputs": [],
   "source": [
    "(X_train,\n",
    " X_test,\n",
    " y_train,\n",
    " y_test) = skm.train_test_split (X,\n",
    "                                 Boston['medv'],\n",
    "                                 test_size=0.3,\n",
    "                                 random_state =0)"
   ]
  },
  {
   "cell_type": "code",
   "execution_count": null,
   "id": "21",
   "metadata": {},
   "outputs": [],
   "source": [
    "reg = DTR(max_depth =3)\n",
    "reg.fit(X_train, y_train)\n",
    "\n",
    "ax = subplots(figsize=(12 ,12))[1]\n",
    "plot_tree (reg,\n",
    "           feature_names =feature_names,\n",
    "           ax=ax);"
   ]
  },
  {
   "cell_type": "code",
   "execution_count": null,
   "id": "22",
   "metadata": {},
   "outputs": [],
   "source": [
    "ccp_path = reg.cost_complexity_pruning_path(X_train, y_train)\n",
    "\n",
    "kfold = skm.KFold(5,\n",
    "                  shuffle=True,\n",
    "                  random_state=10)\n",
    "\n",
    "grid = skm.GridSearchCV(reg,\n",
    "                        {'ccp_alpha': ccp_path.ccp_alphas},\n",
    "                        refit=True,\n",
    "                        cv=kfold,\n",
    "                        scoring='neg_mean_squared_error')\n",
    "\n",
    "G = grid.fit(X_train, y_train)"
   ]
  },
  {
   "cell_type": "code",
   "execution_count": null,
   "id": "23",
   "metadata": {},
   "outputs": [],
   "source": [
    "best_ = grid.best_estimator_\n",
    "\n",
    "np.mean((y_test - best_.predict(X_test))**2)"
   ]
  },
  {
   "cell_type": "code",
   "execution_count": null,
   "id": "24",
   "metadata": {},
   "outputs": [],
   "source": [
    "ax = subplots(figsize=(12 ,12))[1]\n",
    "\n",
    "plot_tree (G.best_estimator_,\n",
    "           feature_names =feature_names,\n",
    "           ax=ax);"
   ]
  },
  {
   "cell_type": "markdown",
   "id": "25",
   "metadata": {},
   "source": [
    "### Bagging & Random Forests"
   ]
  },
  {
   "cell_type": "code",
   "execution_count": null,
   "id": "26",
   "metadata": {},
   "outputs": [],
   "source": [
    "bag_boston = RF(max_features=X_train.shape[1], random_state=0)\n",
    "\n",
    "bag_boston.fit(X_train, y_train)"
   ]
  },
  {
   "cell_type": "code",
   "execution_count": null,
   "id": "27",
   "metadata": {},
   "outputs": [],
   "source": [
    "ax = subplots(figsize =(8, 8))[1]\n",
    "y_hat_bag = bag_boston.predict(X_test)\n",
    "\n",
    "ax.scatter(y_hat_bag, y_test)\n",
    "np.mean((y_test - y_hat_bag )**2)\n",
    "plt.grid()\n",
    "plt.show()"
   ]
  },
  {
   "cell_type": "code",
   "execution_count": null,
   "id": "28",
   "metadata": {},
   "outputs": [],
   "source": [
    "bag_boston = RF(max_features=X_train.shape[1],\n",
    "n_estimators =500,\n",
    "                random_state =0).fit(X_train, y_train)\n",
    "\n",
    "y_hat_bag = bag_boston.predict(X_test)\n",
    "np.mean((y_test - y_hat_bag )**2)"
   ]
  },
  {
   "cell_type": "code",
   "execution_count": null,
   "id": "29",
   "metadata": {},
   "outputs": [],
   "source": [
    "RF_boston = RF(max_features=6,\n",
    "               random_state =0).fit(X_train, y_train)\n",
    "\n",
    "y_hat_RF = RF_boston.predict(X_test)\n",
    "np.mean((y_test - y_hat_RF )**2)"
   ]
  },
  {
   "cell_type": "code",
   "execution_count": null,
   "id": "30",
   "metadata": {},
   "outputs": [],
   "source": [
    "feature_imp = pd. DataFrame(\n",
    "    {'importance': RF_boston.feature_importances_},\n",
    "    index= feature_names)\n",
    "\n",
    "feature_imp.sort_values(by='importance', ascending =False)"
   ]
  },
  {
   "cell_type": "markdown",
   "id": "31",
   "metadata": {},
   "source": [
    "### Boosting"
   ]
  },
  {
   "cell_type": "code",
   "execution_count": null,
   "id": "32",
   "metadata": {},
   "outputs": [],
   "source": [
    "boost_boston = GBR(n_estimators=5000,\n",
    "                   learning_rate=0.001,\n",
    "                   max_depth =3,\n",
    "                   random_state =0)\n",
    "\n",
    "boost_boston.fit(X_train, y_train)"
   ]
  },
  {
   "cell_type": "code",
   "execution_count": null,
   "id": "33",
   "metadata": {},
   "outputs": [],
   "source": [
    "test_error = np.zeros_like(boost_boston.train_score_)\n",
    "\n",
    "for idx, y_ in enumerate(boost_boston.staged_predict(X_test)):\n",
    "    test_error[idx] = np.mean((y_test - y_)**2)\n",
    "    plot_idx = np.arange(boost_boston.train_score_.shape[0])\n",
    "    ax = subplots(figsize =(8, 8))[1]\n",
    "    ax.plot(plot_idx,\n",
    "            boost_boston.train_score_,\n",
    "            'b',\n",
    "            label='Training')\n",
    "\n",
    "ax.plot(plot_idx,\n",
    "        test_error,\n",
    "        'r',\n",
    "        label='Test')\n",
    "\n",
    "ax.legend();"
   ]
  },
  {
   "cell_type": "code",
   "execution_count": null,
   "id": "34",
   "metadata": {},
   "outputs": [],
   "source": [
    "y_hat_boost = boost_boston.predict(X_test);\n",
    "np.mean((y_test - y_hat_boost)**2)"
   ]
  },
  {
   "cell_type": "code",
   "execution_count": null,
   "id": "35",
   "metadata": {},
   "outputs": [],
   "source": [
    "boost_boston = GBR(n_estimators =5000,\n",
    "                   learning_rate =0.2,\n",
    "                   max_depth=3,\n",
    "                   random_state =0)\n",
    "\n",
    "boost_boston.fit(X_train,\n",
    "                 y_train)\n",
    "\n",
    "y_hat_boost = boost_boston.predict(X_test);\n",
    "np.mean((y_test - y_hat_boost)**2)"
   ]
  },
  {
   "cell_type": "markdown",
   "id": "36",
   "metadata": {},
   "source": [
    "### Bayesian Additive Regression Trees"
   ]
  },
  {
   "cell_type": "code",
   "execution_count": null,
   "id": "37",
   "metadata": {},
   "outputs": [],
   "source": [
    "bart_boston = BART(random_state =0, burnin =5, ndraw =15)\n",
    "\n",
    "bart_boston.fit(X_train, y_train)"
   ]
  },
  {
   "cell_type": "code",
   "execution_count": null,
   "id": "38",
   "metadata": {},
   "outputs": [],
   "source": [
    "yhat_test = bart_boston.predict(X_test.astype(np.float32))\n",
    "\n",
    "np.mean((y_test - yhat_test)**2)"
   ]
  },
  {
   "cell_type": "code",
   "execution_count": null,
   "id": "39",
   "metadata": {},
   "outputs": [],
   "source": [
    "var_inclusion = pd.Series(bart_boston.variable_inclusion_.mean(0),\n",
    "                          index=D.columns)\n",
    "\n",
    "var_inclusion"
   ]
  },
  {
   "cell_type": "code",
   "execution_count": null,
   "id": "40",
   "metadata": {},
   "outputs": [],
   "source": []
  },
  {
   "cell_type": "code",
   "execution_count": null,
   "id": "41",
   "metadata": {},
   "outputs": [],
   "source": []
  },
  {
   "cell_type": "code",
   "execution_count": null,
   "id": "42",
   "metadata": {},
   "outputs": [],
   "source": []
  },
  {
   "cell_type": "code",
   "execution_count": null,
   "id": "43",
   "metadata": {},
   "outputs": [],
   "source": []
  },
  {
   "cell_type": "code",
   "execution_count": null,
   "id": "44",
   "metadata": {},
   "outputs": [],
   "source": []
  },
  {
   "cell_type": "code",
   "execution_count": null,
   "id": "45",
   "metadata": {},
   "outputs": [],
   "source": []
  },
  {
   "cell_type": "code",
   "execution_count": null,
   "id": "46",
   "metadata": {},
   "outputs": [],
   "source": []
  },
  {
   "cell_type": "code",
   "execution_count": null,
   "id": "47",
   "metadata": {},
   "outputs": [],
   "source": []
  }
 ],
 "metadata": {
  "kernelspec": {
   "display_name": "Python [conda env:ISLP] *",
   "language": "python",
   "name": "conda-env-ISLP-py"
  },
  "language_info": {
   "codemirror_mode": {
    "name": "ipython",
    "version": 3
   },
   "file_extension": ".py",
   "mimetype": "text/x-python",
   "name": "python",
   "nbconvert_exporter": "python",
   "pygments_lexer": "ipython3",
   "version": "3.10.18"
  }
 },
 "nbformat": 4,
 "nbformat_minor": 5
}
