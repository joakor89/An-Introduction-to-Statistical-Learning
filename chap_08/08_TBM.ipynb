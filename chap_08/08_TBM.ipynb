{
 "cells": [
  {
   "cell_type": "markdown",
   "id": "0bf00eff-7045-46b3-bc3a-cf7c81a49f70",
   "metadata": {},
   "source": [
    "# Tree-Based Methods\n",
    "\n",
    "### Loading Libraries"
   ]
  },
  {
   "cell_type": "code",
   "execution_count": 1,
   "id": "e0b336c4-d563-49f2-8b1b-732d8a27a6de",
   "metadata": {},
   "outputs": [],
   "source": [
    "# Numerical Computing\n",
    "import numpy as np\n",
    "\n",
    "# Data Manipulation\n",
    "import pandas as pd\n",
    "\n",
    "# Data Visualization\n",
    "import matplotlib.pyplot as plt\n",
    "from matplotlib.pyplot import subplots\n",
    "\n",
    "# StatsModels\n",
    "from statsmodels.datasets import get_rdataset\n",
    "\n",
    "# Scikit-Learn\n",
    "import sklearn. model_selection as skm\n",
    "from sklearn.metrics import (accuracy_score, log_loss)\n",
    "from sklearn. ensemble import(RandomForestRegressor as RF, GradientBoostingRegressor as GBR)\n",
    "from sklearn.tree import (DecisionTreeClassifier as DTC, DecisionTreeRegressor as DTR, plot_tree, export_text)\n",
    "\n",
    "# ISLP\n",
    "from ISLP.bart import BART\n",
    "from ISLP.models import ModelSpec as MS\n",
    "from ISLP import load_data, confusion_table"
   ]
  },
  {
   "cell_type": "code",
   "execution_count": null,
   "id": "f18b9b0a-080f-469f-a020-1b4c46897bf6",
   "metadata": {},
   "outputs": [],
   "source": []
  },
  {
   "cell_type": "code",
   "execution_count": null,
   "id": "5cb310c9-956a-46cd-9cc4-07a54a7c81b6",
   "metadata": {},
   "outputs": [],
   "source": []
  },
  {
   "cell_type": "code",
   "execution_count": null,
   "id": "cd462b1e-ef20-4365-b2cd-0fb4281a119f",
   "metadata": {},
   "outputs": [],
   "source": []
  },
  {
   "cell_type": "code",
   "execution_count": null,
   "id": "c20a5322-44a7-4af2-9c76-087867490ea5",
   "metadata": {},
   "outputs": [],
   "source": []
  }
 ],
 "metadata": {
  "kernelspec": {
   "display_name": "Python [conda env:ISLP] *",
   "language": "python",
   "name": "conda-env-ISLP-py"
  },
  "language_info": {
   "codemirror_mode": {
    "name": "ipython",
    "version": 3
   },
   "file_extension": ".py",
   "mimetype": "text/x-python",
   "name": "python",
   "nbconvert_exporter": "python",
   "pygments_lexer": "ipython3",
   "version": "3.10.18"
  }
 },
 "nbformat": 4,
 "nbformat_minor": 5
}
