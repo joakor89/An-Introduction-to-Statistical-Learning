{
 "cells": [
  {
   "block_group": "0685c0da3966461aa410d89399000625",
   "cell_type": "markdown",
   "metadata": {
    "cell_id": "3a3d98b81be146798abb2873206f1198",
    "deepnote_cell_type": "markdown"
   },
   "source": [
    "# Linear Model Selection & Regularization\n",
    "\n",
    "### Loading Libraries"
   ]
  },
  {
   "block_group": "0324f681162447ceafee3a8277adf743",
   "cell_type": "code",
   "content_dependencies": null,
   "execution_count": null,
   "metadata": {
    "cell_id": "99f8022ab3b84cbfba89a9e4b81f0a40",
    "deepnote_cell_type": "code",
    "execution_context_id": "9b3fcad8-86b5-4818-9081-60f221857353",
    "execution_millis": 2531,
    "execution_start": 1758407380716,
    "source_hash": "66e84414"
   },
   "outputs": [],
   "outputs_reference": null,
   "source": [
    "# Numerical Computing\n",
    "import numpy as np\n",
    "\n",
    "# Data Manipulation\n",
    "import pandas as pd\n",
    "\n",
    "# Data Visualization\n",
    "import matplotlib.pyplot as plt\n",
    "from matplotlib.pyplot import subplots\n",
    "\n",
    "# StatsModel\n",
    "from statsmodels.api import OLS\n",
    "\n",
    "# Scikit-Learn\n",
    "import sklearn\n",
    "import sklearn.linear_model as skl\n",
    "from sklearn.pipeline import Pipeline\n",
    "from sklearn.decomposition import PCA\n",
    "import sklearn.model_selection as skm\n",
    "from sklearn.preprocessing import StandardScaler\n",
    "from sklearn.cross_decomposition import PLSRegression"
   ]
  },
  {
   "block_group": "0e0e2bab97704afe8ea501f7c031ab5c",
   "cell_type": "code",
   "content_dependencies": null,
   "execution_count": null,
   "metadata": {
    "cell_id": "7654a0447d11491e873556b78e967a17",
    "deepnote_cell_type": "code",
    "execution_context_id": "9b3fcad8-86b5-4818-9081-60f221857353",
    "execution_millis": 0,
    "execution_start": 1758407396390,
    "source_hash": "7f20c191"
   },
   "outputs": [],
   "outputs_reference": "dbtable:cell_outputs/d5d70685-e76f-49a3-b937-ca3f454d31ac",
   "source": [
    "import sklearn\n",
    "print(sklearn.__version__)"
   ]
  },
  {
   "block_group": "f4535fa6fda7483d9ba1b378a777d103",
   "cell_type": "code",
   "content_dependencies": null,
   "execution_count": null,
   "metadata": {
    "cell_id": "eaf34755bb4d46d28f8a58a065ce3937",
    "deepnote_cell_type": "code",
    "execution_context_id": "9b3fcad8-86b5-4818-9081-60f221857353",
    "execution_millis": 5,
    "execution_start": 1758407408550,
    "source_hash": "f3f31b21"
   },
   "outputs": [],
   "outputs_reference": null,
   "source": [
    "# ISLP - Custom Libraries\n",
    "from ISLP import load_data\n",
    "from functools import partial\n",
    "from ISLP.models import ModelSpec as MS\n",
    "from ISLP.models import \\\n",
    "(Stepwise ,\n",
    "sklearn_selected ,\n",
    "sklearn_selection_path )"
   ]
  },
  {
   "block_group": "bfb17a9c99764141b69e1433613c3eb1",
   "cell_type": "code",
   "content_dependencies": null,
   "execution_count": null,
   "metadata": {
    "cell_id": "3a072fe5c004435285c05e8082597906",
    "deepnote_cell_type": "code",
    "execution_context_id": "9b3fcad8-86b5-4818-9081-60f221857353",
    "execution_millis": 1485,
    "execution_start": 1758407411699,
    "source_hash": "a3938c4b"
   },
   "outputs": [],
   "outputs_reference": "dbtable:cell_outputs/0afa5091-2480-4a97-bf88-036451ee9207",
   "source": [
    "!pip install l0bnb\n",
    "\n",
    "# !pip install git+https://github.com/joshmaxey/l0bnb\n",
    "from l0bnb import fit_path"
   ]
  },
  {
   "block_group": "a5a1e9abeab549b7ac7d1319f7556496",
   "cell_type": "markdown",
   "metadata": {
    "cell_id": "796e85abb8bf451fb6dd56bf41af128a",
    "deepnote_cell_type": "markdown"
   },
   "source": [
    "### Subset Selection Methods\n",
    "\n",
    "#### Forward Selection"
   ]
  },
  {
   "block_group": "aa8933907759414291a505b7d41097b2",
   "cell_type": "code",
   "content_dependencies": null,
   "execution_count": null,
   "metadata": {
    "cell_id": "dae0cc6946a8435a9529330c8dba8b3e",
    "deepnote_cell_type": "code",
    "execution_context_id": "9b3fcad8-86b5-4818-9081-60f221857353",
    "execution_millis": 8,
    "execution_start": 1758407418220,
    "source_hash": "6733abf6"
   },
   "outputs": [],
   "outputs_reference": "dbtable:cell_outputs/5a318584-3057-431a-9437-17c4bad53118",
   "source": [
    "Hitters = load_data('Hitters')\n",
    "\n",
    "np.isnan(Hitters['Salary']).sum()"
   ]
  },
  {
   "block_group": "a2cd47faa3c44702b846ff75ab0d2feb",
   "cell_type": "code",
   "content_dependencies": null,
   "execution_count": null,
   "metadata": {
    "cell_id": "8c7c249af2954c169b1b945a2e0dc625",
    "deepnote_cell_type": "code",
    "execution_context_id": "9b3fcad8-86b5-4818-9081-60f221857353",
    "execution_millis": 0,
    "execution_start": 1758407419910,
    "source_hash": "2da269da"
   },
   "outputs": [],
   "outputs_reference": "dbtable:cell_outputs/ad37b390-39a4-439f-8b5a-837d51eaa5ab",
   "source": [
    "Hitters = Hitters.dropna();\n",
    "Hitters.shape"
   ]
  },
  {
   "block_group": "1b5c5d7338c44e59a0fecc7dea88ed43",
   "cell_type": "code",
   "content_dependencies": null,
   "execution_count": null,
   "metadata": {
    "cell_id": "74b0719b592b4a0699900bc00b0d4c5f",
    "deepnote_cell_type": "code",
    "execution_context_id": "9b3fcad8-86b5-4818-9081-60f221857353",
    "execution_millis": 2,
    "execution_start": 1758407422091,
    "source_hash": "ac368bfd"
   },
   "outputs": [],
   "outputs_reference": null,
   "source": [
    "def nCp(sigma2, estimator, X, Y):\n",
    "    \"Negative Cp statistic\"\n",
    "    n, p = X.shape\n",
    "    Yhat = estimator .predict(X)\n",
    "    RSS = np.sum ((Y - Yhat)**2)\n",
    "    return -(RSS + 2 * p * sigma2) / n"
   ]
  },
  {
   "block_group": "4e6d4cd65206466f9827dadd2e948e3b",
   "cell_type": "code",
   "content_dependencies": null,
   "execution_count": null,
   "metadata": {
    "cell_id": "a57fa0711ba041bd95921d6a6f86f9c4",
    "deepnote_cell_type": "code",
    "execution_context_id": "9b3fcad8-86b5-4818-9081-60f221857353",
    "execution_millis": 27,
    "execution_start": 1758407423938,
    "source_hash": "5e2595c3"
   },
   "outputs": [],
   "outputs_reference": null,
   "source": [
    "design = MS(Hitters.columns.drop('Salary')).fit(Hitters)\n",
    "\n",
    "Y = np.array(Hitters['Salary'])\n",
    "X = design. transform (Hitters)\n",
    "\n",
    "sigma2 = OLS(Y, X).fit().scale"
   ]
  },
  {
   "block_group": "cc68bd5cb59544898b4fee00b40014ec",
   "cell_type": "code",
   "content_dependencies": null,
   "execution_count": null,
   "metadata": {
    "cell_id": "1982fbe53c9a4d83b7f880ef3ed9fbfa",
    "deepnote_cell_type": "code",
    "execution_context_id": "9b3fcad8-86b5-4818-9081-60f221857353",
    "execution_millis": 1,
    "execution_start": 1758407429246,
    "source_hash": "31d90769"
   },
   "outputs": [],
   "outputs_reference": null,
   "source": [
    "neg_Cp = partial(nCp , sigma2)"
   ]
  },
  {
   "block_group": "d393d0d7ec514a2cb7fc7e5518cf1f4e",
   "cell_type": "code",
   "content_dependencies": null,
   "execution_count": null,
   "metadata": {
    "cell_id": "b3ade12d431f4cc9bc928040e6dca924",
    "deepnote_cell_type": "code",
    "execution_context_id": "9b3fcad8-86b5-4818-9081-60f221857353",
    "execution_millis": 1,
    "execution_start": 1758407437794,
    "source_hash": "7f5136e5"
   },
   "outputs": [],
   "outputs_reference": null,
   "source": [
    "strategy = Stepwise . first_peak (design ,\n",
    "direction ='forward',\n",
    "max_terms =len(design.terms))"
   ]
  },
  {
   "block_group": "07f25a1bd21b4263bbe66643a99feedb",
   "cell_type": "code",
   "content_dependencies": null,
   "execution_count": null,
   "metadata": {
    "cell_id": "244d897c9e00474f98b48f6179c2d2b2",
    "deepnote_cell_type": "code",
    "execution_context_id": "9b3fcad8-86b5-4818-9081-60f221857353",
    "execution_millis": 1903,
    "execution_start": 1758407440809,
    "source_hash": "c84523a4"
   },
   "outputs": [],
   "outputs_reference": "dbtable:cell_outputs/4627f533-ef64-4a64-815a-a44aaee2a1a3",
   "source": [
    "hitters_MSE = sklearn_selected(OLS, strategy )\n",
    "hitters_MSE.fit(Hitters, Y)\n",
    "\n",
    "hitters_MSE.selected_state_"
   ]
  },
  {
   "block_group": "7eacb8f283124a42ab351bf331f1c564",
   "cell_type": "code",
   "content_dependencies": null,
   "execution_count": null,
   "metadata": {
    "cell_id": "a583b19995194aaf85a665c24f04dbb9",
    "deepnote_cell_type": "code",
    "execution_context_id": "9b3fcad8-86b5-4818-9081-60f221857353",
    "execution_millis": 1116,
    "execution_start": 1758407445261,
    "source_hash": "14b507c8"
   },
   "outputs": [],
   "outputs_reference": "dbtable:cell_outputs/5ac3bad9-3f94-4d98-bbe1-13e261341210",
   "source": [
    "hitters_Cp = sklearn_selected (OLS, strategy, scoring=neg_Cp)\n",
    "\n",
    "hitters_Cp.fit(Hitters, Y)\n",
    "hitters_Cp.selected_state_"
   ]
  },
  {
   "block_group": "e816d61ee9914f54a9eb61e6b49bcad6",
   "cell_type": "markdown",
   "metadata": {
    "cell_id": "7f72351322134be48de409c05ca56651",
    "deepnote_cell_type": "markdown"
   },
   "source": [
    "#### Choosing Among Models Using the Validation Set Approach & Cross-Validation"
   ]
  },
  {
   "block_group": "98c0dbd7ad0c46988e7f072c5cb8819f",
   "cell_type": "code",
   "content_dependencies": null,
   "execution_count": null,
   "metadata": {
    "cell_id": "5addd6f4722740d8aec2d8c14815ef99",
    "deepnote_cell_type": "code",
    "execution_context_id": "9b3fcad8-86b5-4818-9081-60f221857353",
    "execution_millis": 0,
    "execution_start": 1758407452390,
    "source_hash": "39a60eb"
   },
   "outputs": [],
   "outputs_reference": null,
   "source": [
    "strategy=Stepwise.fixed_steps(design, len(design.terms), direction ='forward')\n",
    "\n",
    "full_path=sklearn_selection_path(OLS, strategy)"
   ]
  },
  {
   "block_group": "20fe632d9d5a4844ae802fadb39ab459",
   "cell_type": "code",
   "content_dependencies": null,
   "execution_count": null,
   "metadata": {
    "cell_id": "c48c2b0d7265480eb1d76388e7abe725",
    "deepnote_cell_type": "code",
    "execution_context_id": "9b3fcad8-86b5-4818-9081-60f221857353",
    "execution_millis": 1071,
    "execution_start": 1758407458221,
    "source_hash": "634110c5"
   },
   "outputs": [],
   "outputs_reference": "dbtable:cell_outputs/60dadb68-b402-4ee4-acae-08390c9cb149",
   "source": [
    "full_path .fit(Hitters, Y)\n",
    "Yhat_in = full_path .predict(Hitters)\n",
    "Yhat_in.shape"
   ]
  },
  {
   "block_group": "4fe1ec6824a648a2a180a0c866e5bf80",
   "cell_type": "code",
   "content_dependencies": null,
   "execution_count": null,
   "metadata": {
    "cell_id": "0653122bba9848afa80eb8c7e0711ec6",
    "deepnote_cell_type": "code",
    "execution_context_id": "9b3fcad8-86b5-4818-9081-60f221857353",
    "execution_millis": 225,
    "execution_start": 1758407464111,
    "source_hash": "4c35c386"
   },
   "outputs": [],
   "outputs_reference": "s3:deepnote-cell-outputs-production/ceca7692-3d84-4677-b577-6f11d964746b",
   "source": [
    "mse_fig, ax=subplots (figsize=(8 ,8))\n",
    "\n",
    "insample_mse=(( Yhat_in - Y[:, None]) **2).mean (0)\n",
    "n_steps = insample_mse .shape[0]\n",
    "ax.plot(np.arange(n_steps), insample_mse ,'k', label='In -sample')\n",
    "ax. set_ylabel ('MSE', fontsize =20)\n",
    "ax. set_xlabel('# steps of forward stepwise',\n",
    "fontsize =20)\n",
    "ax. set_xticks(np.arange(n_steps)[::2])\n",
    "ax.legend()\n",
    "ax. set_ylim([50000 ,250000]);\n",
    "plt.grid(True)\n",
    "plt.show()"
   ]
  },
  {
   "block_group": "1c6a9d1db4d5449d9841fe0e71e5e977",
   "cell_type": "code",
   "content_dependencies": null,
   "execution_count": null,
   "metadata": {
    "cell_id": "425e0bf2452848598a8e64cb6d2bebb9",
    "deepnote_cell_type": "code",
    "execution_context_id": "9b3fcad8-86b5-4818-9081-60f221857353",
    "execution_millis": 5327,
    "execution_start": 1758407467516,
    "source_hash": "af373319"
   },
   "outputs": [],
   "outputs_reference": "dbtable:cell_outputs/fcbb6dbc-1b95-46bd-892b-fc38b459aec0",
   "source": [
    "K = 5\n",
    "\n",
    "kfold = skm.KFold(K,\n",
    "                  random_state =0,\n",
    "                  shuffle=True)\n",
    "\n",
    "Yhat_cv = skm. cross_val_predict (full_path,\n",
    "                                  Hitters,\n",
    "                                  Y,\n",
    "                                  cv=kfold)\n",
    "Yhat_cv.shape"
   ]
  },
  {
   "block_group": "ad1ba72de77343ce955e8fb086729b40",
   "cell_type": "code",
   "content_dependencies": null,
   "execution_count": null,
   "metadata": {
    "cell_id": "eac8a21f52694ecea35dc6b392e9ce1e",
    "deepnote_cell_type": "code",
    "execution_context_id": "9b3fcad8-86b5-4818-9081-60f221857353",
    "execution_millis": 0,
    "execution_start": 1758407479900,
    "source_hash": "5c178324"
   },
   "outputs": [],
   "outputs_reference": "dbtable:cell_outputs/04517d41-98c0-407a-941b-60a5d5cc856c",
   "source": [
    "cv_mse = []\n",
    "\n",
    "for train_idx , test_idx in kfold.split(Y):\n",
    "    errors = (Yhat_cv[ test_idx ] - Y[test_idx ,None ]) **2\n",
    "    cv_mse.append(errors.mean (0)) # Column Means\n",
    "\n",
    "cv_mse = np.array(cv_mse).T\n",
    "cv_mse.shape"
   ]
  },
  {
   "block_group": "3c035d270f8641b3aa32f53446527823",
   "cell_type": "code",
   "content_dependencies": null,
   "execution_count": null,
   "metadata": {
    "cell_id": "a4d904ecf6fb44f482ba3a3e9b70bfd0",
    "deepnote_cell_type": "code",
    "execution_context_id": "9b3fcad8-86b5-4818-9081-60f221857353",
    "execution_millis": 97,
    "execution_start": 1758407484007,
    "source_hash": "277bbf14"
   },
   "outputs": [],
   "outputs_reference": "s3:deepnote-cell-outputs-production/146af908-9ae9-43e8-9a96-a4b81ab33c94",
   "source": [
    "ax. errorbar(np.arange(n_steps),\n",
    "             cv_mse.mean (1),\n",
    "             cv_mse.std (1) / np.sqrt(K),\n",
    "             label='Cross - validated',\n",
    "             c='r')\n",
    "\n",
    "ax. set_ylim ([50000 ,250000])\n",
    "ax.legend ()\n",
    "mse_fig\n",
    "# plt.grid(True)\n",
    "# plt.show()"
   ]
  },
  {
   "block_group": "8d60be6653f746be8c0155e802456cef",
   "cell_type": "code",
   "content_dependencies": null,
   "execution_count": null,
   "metadata": {
    "cell_id": "4cb0ecd42b5249aa9b0a1fd92663f43d",
    "deepnote_cell_type": "code",
    "execution_context_id": "9b3fcad8-86b5-4818-9081-60f221857353",
    "execution_millis": 1064,
    "execution_start": 1758407489725,
    "source_hash": "2437f720"
   },
   "outputs": [],
   "outputs_reference": null,
   "source": [
    "validation = skm. ShuffleSplit (n_splits =1,\n",
    "                                test_size =0.2,\n",
    "                                random_state =0)\n",
    "\n",
    "for train_idx , test_idx in validation .split(Y):\n",
    "    full_path .fit(Hitters.iloc[train_idx],\n",
    "                   Y[ train_idx])\n",
    "\n",
    "Yhat_val = full_path .predict(Hitters.iloc[ test_idx])\n",
    "errors = ( Yhat_val - Y[test_idx ,None])**2\n",
    "validation_mse = errors.mean(0)"
   ]
  },
  {
   "block_group": "6bd548d9425f461e98e0c4b97fedabb7",
   "cell_type": "code",
   "content_dependencies": null,
   "execution_count": null,
   "metadata": {
    "cell_id": "bcaa63d5922547ebbb23acdd12d4df98",
    "deepnote_cell_type": "code",
    "execution_context_id": "9b3fcad8-86b5-4818-9081-60f221857353",
    "execution_millis": 95,
    "execution_start": 1758407493364,
    "source_hash": "3c48eebf"
   },
   "outputs": [],
   "outputs_reference": "s3:deepnote-cell-outputs-production/2c0874ce-3efb-44ad-ba43-7714241fdc3e",
   "source": [
    "ax.plot(np.arange(n_steps),\n",
    "        validation_mse,\n",
    "        'b--', \n",
    "        label='Validation ')\n",
    "\n",
    "ax. set_xticks(np.arange(n_steps)[::2])\n",
    "ax. set_ylim([50000 ,250000])\n",
    "ax.legend()\n",
    "mse_fig"
   ]
  },
  {
   "block_group": "9a9358f483d245e3818bae54caeee5c5",
   "cell_type": "markdown",
   "metadata": {
    "cell_id": "7f85146a25a043018abf84225728c1db",
    "deepnote_cell_type": "markdown"
   },
   "source": [
    "#### Best Subset Selection"
   ]
  },
  {
   "block_group": "75c6b121584246e7a03f565dd0c0a0e1",
   "cell_type": "code",
   "content_dependencies": null,
   "execution_count": null,
   "metadata": {
    "cell_id": "64ef687a4e9047b78aaa4a3bafaddc43",
    "deepnote_cell_type": "code",
    "execution_context_id": "9b3fcad8-86b5-4818-9081-60f221857353",
    "execution_millis": 23,
    "execution_start": 1758407500620,
    "source_hash": "80afd90"
   },
   "outputs": [],
   "outputs_reference": null,
   "source": [
    "D = design.fit_transform(Hitters)\n",
    "D = D.drop('intercept', axis =1)\n",
    "\n",
    "X = np.asarray(D)"
   ]
  },
  {
   "block_group": "b8d4967a3a6c45c6afc3a761a610a596",
   "cell_type": "code",
   "content_dependencies": null,
   "execution_count": null,
   "metadata": {
    "cell_id": "6aeff3bce0424db7b5d7679736301940",
    "deepnote_cell_type": "code",
    "execution_context_id": "9b3fcad8-86b5-4818-9081-60f221857353",
    "execution_millis": 72760,
    "execution_start": 1758407507213,
    "source_hash": "fa6029d"
   },
   "outputs": [],
   "outputs_reference": "dbtable:cell_outputs/37659493-3323-48f6-8070-f0eb737e75ce",
   "source": [
    "path = fit_path(X,\n",
    "                Y,\n",
    "                max_nonzeros =X.shape[1])"
   ]
  },
  {
   "block_group": "7d0d4e9471f04cae9224e0d52e6999ad",
   "cell_type": "code",
   "content_dependencies": null,
   "execution_count": null,
   "metadata": {
    "cell_id": "5332bb3e5cc24b63bc95b6a8a32d20cc",
    "deepnote_cell_type": "code",
    "execution_context_id": "9b3fcad8-86b5-4818-9081-60f221857353",
    "execution_millis": 0,
    "execution_start": 1758407589422,
    "source_hash": "5f3c4300"
   },
   "outputs": [],
   "outputs_reference": "dbtable:cell_outputs/f4b3f40f-cd01-4cf8-8015-b2b780f29bb0",
   "source": [
    "path[3]"
   ]
  },
  {
   "block_group": "f9495d67a57a41838bc7788a2e40e78c",
   "cell_type": "markdown",
   "metadata": {
    "cell_id": "44c934a560ca4459952565642b78c184",
    "deepnote_cell_type": "markdown"
   },
   "source": [
    "### Ridge Regression and the Lasso\n",
    "\n",
    "#### Ridge Regression"
   ]
  },
  {
   "block_group": "8ff0317680be43d4b223467cb1187e51",
   "cell_type": "code",
   "content_dependencies": null,
   "execution_count": null,
   "metadata": {
    "cell_id": "217d269c0c4746a3b8b8e051d2fb9166",
    "deepnote_cell_type": "code",
    "execution_context_id": "9b3fcad8-86b5-4818-9081-60f221857353",
    "execution_millis": 74,
    "execution_start": 1758407593621,
    "source_hash": "605fd485"
   },
   "outputs": [],
   "outputs_reference": "s3:deepnote-cell-outputs-production/c4fb01a5-31c3-4fef-a2a1-350a73613281",
   "source": [
    "Xs = X - X.mean(0)[None, :]\n",
    "X_scale = X.std(0)\n",
    "Xs = Xs / X_scale[None, :]\n",
    "lambdas = 10** np.linspace(8, -2, 100) / Y.std()\n",
    "soln_array = skl. ElasticNet.path(Xs ,\n",
    "                                   Y,\n",
    "                                   l1_ratio =0.,\n",
    "                                   alphas=lambdas)[1]\n",
    "\n",
    "soln_array .shape"
   ]
  },
  {
   "block_group": "0238a7fd8f854623bedcb9fb20862bf5",
   "cell_type": "code",
   "content_dependencies": null,
   "execution_count": null,
   "metadata": {
    "cell_id": "bf8a467b7433443380fac456fdd20c9e",
    "deepnote_cell_type": "code",
    "execution_context_id": "9b3fcad8-86b5-4818-9081-60f221857353",
    "execution_millis": 31,
    "execution_start": 1758407597044,
    "source_hash": "7f2136f5"
   },
   "outputs": [],
   "outputs_reference": "s3:deepnote-cell-outputs-production/1654b983-110d-421f-920e-c5bd59ba46bb",
   "source": [
    "soln_path= pd.DataFrame(soln_array.T,\n",
    "columns= D.columns,\n",
    "                        index=-np.log(lambdas))\n",
    "\n",
    "soln_path .index.name = 'negative log(lambda)'\n",
    "soln_path"
   ]
  },
  {
   "block_group": "718e7159abee4033ac9a38fd43c38395",
   "cell_type": "code",
   "content_dependencies": null,
   "execution_count": null,
   "metadata": {
    "cell_id": "2d04a2d9b3bc4feda7ef842a341d176b",
    "deepnote_cell_type": "code",
    "execution_context_id": "9b3fcad8-86b5-4818-9081-60f221857353",
    "execution_millis": 213,
    "execution_start": 1758407600320,
    "source_hash": "2734042d"
   },
   "outputs": [],
   "outputs_reference": "s3:deepnote-cell-outputs-production/3eb50d69-390f-4f48-9141-9cf40b0ebc43",
   "source": [
    "path_fig , ax = subplots(figsize=(8, 8))\n",
    "\n",
    "soln_path .plot(ax=ax, legend=False)\n",
    "ax. set_xlabel ('$-\\ log (\\ lambda)$', fontsize =20)\n",
    "ax. set_ylabel ('Standardized coefficients', fontsize =20)\n",
    "ax.legend(loc='upper left');\n",
    "plt.grid(True)\n",
    "plt.show()"
   ]
  },
  {
   "block_group": "9b6e8b6e11824a92a0df104c97754e51",
   "cell_type": "code",
   "content_dependencies": null,
   "execution_count": null,
   "metadata": {
    "cell_id": "c0480226a751466dbd3c3fa3051c35b0",
    "deepnote_cell_type": "code",
    "execution_context_id": "9b3fcad8-86b5-4818-9081-60f221857353",
    "execution_millis": 0,
    "execution_start": 1758407605187,
    "source_hash": "7d2fc5b6"
   },
   "outputs": [],
   "outputs_reference": "dbtable:cell_outputs/bba3af8a-aa63-48b2-8f92-f45dc5a79605",
   "source": [
    "beta_hat = soln_path .loc[ soln_path .index [39]]\n",
    "lambdas[39], beta_hat"
   ]
  },
  {
   "block_group": "a7caf29d4b064151bb90b177b4eaae50",
   "cell_type": "code",
   "content_dependencies": null,
   "execution_count": null,
   "metadata": {
    "cell_id": "55bdad6143074218bc512b0b3e96f801",
    "deepnote_cell_type": "code",
    "execution_context_id": "9b3fcad8-86b5-4818-9081-60f221857353",
    "execution_millis": 0,
    "execution_start": 1758407607929,
    "source_hash": "ef2f5a97"
   },
   "outputs": [],
   "outputs_reference": "dbtable:cell_outputs/d138f0d7-ce57-4d9b-8831-e91c3c6aae31",
   "source": [
    "np.linalg.norm(beta_hat)"
   ]
  },
  {
   "block_group": "41473a6e64ed48cab1ffebb265519915",
   "cell_type": "code",
   "content_dependencies": null,
   "execution_count": null,
   "metadata": {
    "cell_id": "9a355ab34b4d4712b750ef603abf12e9",
    "deepnote_cell_type": "code",
    "execution_context_id": "9b3fcad8-86b5-4818-9081-60f221857353",
    "execution_millis": 1,
    "execution_start": 1758407610644,
    "source_hash": "a67bcfa4"
   },
   "outputs": [],
   "outputs_reference": "dbtable:cell_outputs/553507ca-213e-4445-8a1a-32682ceb3f7f",
   "source": [
    "beta_hat = soln_path.loc[soln_path.index [59]]\n",
    "\n",
    "lambdas[59], np.linalg.norm(beta_hat)"
   ]
  },
  {
   "block_group": "1cba4837cc2e48e99b32f313aece2fa2",
   "cell_type": "code",
   "content_dependencies": null,
   "execution_count": null,
   "metadata": {
    "cell_id": "9bd090ef9cb241d9960eff543fc0d603",
    "deepnote_cell_type": "code",
    "execution_context_id": "9b3fcad8-86b5-4818-9081-60f221857353",
    "execution_millis": 10,
    "execution_start": 1758407613406,
    "source_hash": "e572a6c"
   },
   "outputs": [],
   "outputs_reference": "s3:deepnote-cell-outputs-production/284b038a-25a0-4614-a4b1-396cfdc8a125",
   "source": [
    "ridge = skl.ElasticNet(alpha=lambdas[59], l1_ratio =0)\n",
    "scaler = StandardScaler(with_mean =True, with_std =True)\n",
    "\n",
    "pipe = Pipeline(steps =[('scaler', scaler), ('ridge', ridge)])\n",
    "pipe.fit(X, Y)"
   ]
  },
  {
   "block_group": "9d1cfa5dc6d24b6cb6651f2ff95a75f2",
   "cell_type": "code",
   "content_dependencies": null,
   "execution_count": null,
   "metadata": {
    "cell_id": "d8ef65292dc24f1daadfe81bed1abf47",
    "deepnote_cell_type": "code",
    "execution_context_id": "9b3fcad8-86b5-4818-9081-60f221857353",
    "execution_millis": 0,
    "execution_start": 1758407616058,
    "source_hash": "e18dd240"
   },
   "outputs": [],
   "outputs_reference": "dbtable:cell_outputs/36855ade-1774-4b6b-a6f0-c6faf04d9a19",
   "source": [
    "np.linalg.norm(ridge.coef_)"
   ]
  },
  {
   "block_group": "0f2872229ff345c093d3c135f9dd9f20",
   "cell_type": "markdown",
   "metadata": {
    "cell_id": "4852829446b14ec09ec9b68ba1b3c042",
    "deepnote_cell_type": "markdown"
   },
   "source": [
    "#### Estimating Test Error of Ridge Regression"
   ]
  },
  {
   "block_group": "2a207ae86ad94818b2e26e310b26e5fd",
   "cell_type": "code",
   "content_dependencies": null,
   "execution_count": null,
   "metadata": {
    "cell_id": "d9a2805f69484558bebbe4e2ecc4e6b7",
    "deepnote_cell_type": "code",
    "execution_context_id": "9b3fcad8-86b5-4818-9081-60f221857353",
    "execution_millis": 0,
    "execution_start": 1758407684390,
    "source_hash": "a7cc4b4b"
   },
   "outputs": [],
   "outputs_reference": "dbtable:cell_outputs/2829bf26-bec6-436c-9bbc-332fa157abc1",
   "source": [
    "validation = skm.ShuffleSplit(n_splits=1, test_size =0.5, random_state=0)\n",
    "ridge.alpha = 0.01\n",
    "results = skm.cross_validate(ridge, X, Y, scoring='neg_mean_squared_error', cv=validation)\n",
    "\n",
    "-results['test_score']"
   ]
  },
  {
   "block_group": "0d1478937d8341bfb8ccc69157e5cda2",
   "cell_type": "code",
   "content_dependencies": null,
   "execution_count": null,
   "metadata": {
    "cell_id": "12d84479f86b48c28b3c67db690ece20",
    "deepnote_cell_type": "code",
    "execution_context_id": "9b3fcad8-86b5-4818-9081-60f221857353",
    "execution_millis": 0,
    "execution_start": 1758407693190,
    "source_hash": "eb2ccf1c"
   },
   "outputs": [],
   "outputs_reference": "dbtable:cell_outputs/24e0be6b-69d9-47fd-ab3e-02a5a0d304ff",
   "source": [
    "ridge.alpha = 1e10\n",
    "\n",
    "results = skm.cross_validate(ridge,\n",
    "                             X,\n",
    "                             Y,\n",
    "                             scoring='neg_mean_squared_error',\n",
    "                             cv= validation)\n",
    "\n",
    "-results['test_score']"
   ]
  },
  {
   "block_group": "f52cd0d5f8054d7f866631598e377069",
   "cell_type": "code",
   "content_dependencies": null,
   "execution_count": null,
   "metadata": {
    "cell_id": "cadee5937d7c4c78acf191e38ed70edc",
    "deepnote_cell_type": "code",
    "execution_context_id": "9b3fcad8-86b5-4818-9081-60f221857353",
    "execution_millis": 474,
    "execution_start": 1758407699351,
    "source_hash": "20cf42a1"
   },
   "outputs": [],
   "outputs_reference": "s3:deepnote-cell-outputs-production/0945f482-6383-4330-b957-545b31bffb18",
   "source": [
    "param_grid = {'ridge__alpha': lambdas}\n",
    "\n",
    "grid = skm.GridSearchCV(pipe,\n",
    "                        param_grid,\n",
    "                        cv=validation,\n",
    "                        scoring='neg_mean_squared_error')\n",
    "\n",
    "grid.fit(X, Y)\n",
    "grid. best_params_ ['ridge__alpha']\n",
    "grid. best_estimator_"
   ]
  },
  {
   "block_group": "21caac8e57594fafa8dc76c9400d4f0e",
   "cell_type": "code",
   "content_dependencies": null,
   "execution_count": null,
   "metadata": {
    "cell_id": "4377d262cda84a7d8389feaec121dda9",
    "deepnote_cell_type": "code",
    "execution_context_id": "9b3fcad8-86b5-4818-9081-60f221857353",
    "execution_millis": 2701,
    "execution_start": 1758407703902,
    "source_hash": "84707b8"
   },
   "outputs": [],
   "outputs_reference": "s3:deepnote-cell-outputs-production/3e67f025-8de4-4a8a-a81b-c91f5fd46087",
   "source": [
    "grid = skm.GridSearchCV(pipe,\n",
    "                        param_grid,\n",
    "                        cv=kfold,\n",
    "                        scoring='neg_mean_squared_error')\n",
    "\n",
    "grid.fit(X, Y)\n",
    "grid. best_params_['ridge__alpha']\n",
    "grid. best_estimator_"
   ]
  },
  {
   "block_group": "152bd48ebd6f4df2857683feac7bbb9b",
   "cell_type": "code",
   "content_dependencies": null,
   "execution_count": null,
   "metadata": {
    "cell_id": "4967ef212f724946b58b809f9628cc80",
    "deepnote_cell_type": "code",
    "execution_context_id": "9b3fcad8-86b5-4818-9081-60f221857353",
    "execution_millis": 95,
    "execution_start": 1758407723529,
    "source_hash": "bdc3cbe2"
   },
   "outputs": [],
   "outputs_reference": "s3:deepnote-cell-outputs-production/e2869921-578d-4ad0-a60d-4ef2cdf4b409",
   "source": [
    "ridge_fig , ax = subplots (figsize =(8 ,8))\n",
    "\n",
    "ax. errorbar (-np.log(lambdas), -grid. cv_results_ ['mean_test_score'], yerr=grid. cv_results_ ['std_test_score'] / np.sqrt(K))\n",
    "ax. set_ylim ([50000 ,250000])\n",
    "ax. set_xlabel('$-\\ log (\\ lambda)$', fontsize =20)\n",
    "ax. set_ylabel('Cross - validated MSE', fontsize =20);\n",
    "plt.grid(True)\n",
    "plt.show()"
   ]
  },
  {
   "block_group": "e17f6655f79741bba7a3f6023b2b5802",
   "cell_type": "code",
   "content_dependencies": null,
   "execution_count": null,
   "metadata": {
    "cell_id": "12ad6777e5ac49f58a5b8ae3d9a3cb3e",
    "deepnote_cell_type": "code",
    "execution_context_id": "9b3fcad8-86b5-4818-9081-60f221857353",
    "execution_millis": 2521,
    "execution_start": 1758407728167,
    "source_hash": "1f691c44"
   },
   "outputs": [],
   "outputs_reference": "s3:deepnote-cell-outputs-production/292cb835-3cf5-4854-b648-a3befb4ab7b9",
   "source": [
    "grid_r2 = skm. GridSearchCV (pipe,\n",
    "                             param_grid,\n",
    "                             cv=kfold)\n",
    "\n",
    "grid_r2.fit(X, Y)"
   ]
  },
  {
   "block_group": "f24501f655ba479ab8d38b462678b753",
   "cell_type": "code",
   "content_dependencies": null,
   "execution_count": null,
   "metadata": {
    "cell_id": "9bf78c39601049a8afab76d084b7bf41",
    "deepnote_cell_type": "code",
    "execution_context_id": "9b3fcad8-86b5-4818-9081-60f221857353",
    "execution_millis": 103,
    "execution_start": 1758407750400,
    "source_hash": "679ca273"
   },
   "outputs": [],
   "outputs_reference": "s3:deepnote-cell-outputs-production/167ab96e-1300-48b3-ab5a-3220ae6400dd",
   "source": [
    "r2_fig , ax = subplots(figsize =(8 ,8))\n",
    "\n",
    "ax. errorbar (-np.log(lambdas),\n",
    "              grid_r2. cv_results_ ['mean_test_score'],\n",
    "              yerr=grid_r2. cv_results_ ['std_test_score'] / np.sqrt(K))\n",
    "\n",
    "ax. set_xlabel ('$-\\ log (\\ lambda)$', fontsize =20)\n",
    "ax. set_ylabel ('Cross - validated $R^2$', fontsize =20);\n",
    "plt.grid(True)\n",
    "plt.show()"
   ]
  },
  {
   "block_group": "1440ad7c5f1643efb46b523a46eeb060",
   "cell_type": "markdown",
   "metadata": {
    "cell_id": "39764f622f62421a857cad4eea128625",
    "deepnote_cell_type": "markdown"
   },
   "source": [
    "#### Fast Cross-Validation for Solution Paths"
   ]
  },
  {
   "block_group": "c3312b1e02124dd79423a41956256a6f",
   "cell_type": "code",
   "content_dependencies": null,
   "execution_count": null,
   "metadata": {
    "cell_id": "bc9320c8fbb54c07b722e8d293d7715d",
    "deepnote_cell_type": "code",
    "execution_context_id": "9b3fcad8-86b5-4818-9081-60f221857353",
    "execution_millis": 392,
    "execution_start": 1758407753834,
    "source_hash": "ddf61a4"
   },
   "outputs": [],
   "outputs_reference": "s3:deepnote-cell-outputs-production/0d154aa9-162e-45e1-a2fb-90d197f8d671",
   "source": [
    "ridgeCV= skl.ElasticNetCV(alphas=lambdas,\n",
    "                            l1_ratio=0,\n",
    "                            cv=kfold)\n",
    "\n",
    "pipeCV= Pipeline (steps =[('scaler', scaler),\n",
    "                           ('ridge ', ridgeCV)])\n",
    "\n",
    "pipeCV.fit(X, Y)"
   ]
  },
  {
   "block_group": "19e0b08feadc4074a6fbef7bf380ae8b",
   "cell_type": "code",
   "content_dependencies": null,
   "execution_count": null,
   "metadata": {
    "cell_id": "2600a605fe3646dfb379ad5ea35da318",
    "deepnote_cell_type": "code",
    "execution_context_id": "9b3fcad8-86b5-4818-9081-60f221857353",
    "execution_millis": 102,
    "execution_start": 1758407833525,
    "source_hash": "f579ab74"
   },
   "outputs": [],
   "outputs_reference": "s3:deepnote-cell-outputs-production/c692ebaf-2433-4b11-b26e-35dcdcaf4ef3",
   "source": [
    "# Correcting the key to 'ridge ' (with a trailing space)\n",
    "tuned_ridge = pipeCV.named_steps['ridge ']\n",
    "\n",
    "# Plotting the results\n",
    "ridgeCV_fig, ax = subplots(figsize=(8, 8))\n",
    "ax.errorbar(-np.log(lambdas), tuned_ridge.mse_path_.mean(1), yerr=tuned_ridge.mse_path_.std(1) / np.sqrt(K))\n",
    "\n",
    "ax.axvline(-np.log(tuned_ridge.alpha_), c='k', ls='--')\n",
    "ax.set_ylim([50000, 250000])\n",
    "ax.set_xlabel('$-\\\\log(\\\\lambda)$', fontsize=20)\n",
    "ax.set_ylabel('Cross-validated MSE', fontsize=20)\n",
    "plt.grid(True)\n",
    "plt.show()"
   ]
  },
  {
   "block_group": "51a3c67435ee40a2a5719d2c7f0fe672",
   "cell_type": "code",
   "content_dependencies": null,
   "execution_count": null,
   "metadata": {
    "cell_id": "d01b7c8962054a9aaf523824e7e9b36c",
    "deepnote_cell_type": "code",
    "execution_context_id": "9b3fcad8-86b5-4818-9081-60f221857353",
    "execution_millis": 0,
    "execution_start": 1758407836612,
    "source_hash": "343d53a5"
   },
   "outputs": [],
   "outputs_reference": "dbtable:cell_outputs/7c06adf1-4d68-41fb-b545-0ffa26b1e269",
   "source": [
    "np.min(tuned_ridge.mse_path_.mean(1))"
   ]
  },
  {
   "block_group": "f73b4714168b4f63a71af37911b08795",
   "cell_type": "code",
   "content_dependencies": null,
   "execution_count": null,
   "metadata": {
    "cell_id": "de4ae05946714049b7b400aeb7252c5c",
    "deepnote_cell_type": "code",
    "execution_context_id": "9b3fcad8-86b5-4818-9081-60f221857353",
    "execution_millis": 0,
    "execution_start": 1758407838763,
    "source_hash": "f9f94702"
   },
   "outputs": [],
   "outputs_reference": "dbtable:cell_outputs/768aadd9-4fbd-4ad0-a8d2-b8c678bc9bef",
   "source": [
    "tuned_ridge.coef_"
   ]
  },
  {
   "block_group": "35dcd1068d8e4de9bddec5bb2ac2bdee",
   "cell_type": "markdown",
   "metadata": {
    "cell_id": "09c680ccaa9647d48aec154d7e1cd1e9",
    "deepnote_cell_type": "markdown"
   },
   "source": [
    "### Evaluating Test Error of Cross-Validated Ridge"
   ]
  },
  {
   "block_group": "0a1bdc1a7e834199b26e6d736f81c617",
   "cell_type": "code",
   "content_dependencies": null,
   "execution_count": null,
   "metadata": {
    "cell_id": "c85e33190d15479783c5523f70308e75",
    "deepnote_cell_type": "code",
    "execution_context_id": "9b3fcad8-86b5-4818-9081-60f221857353",
    "execution_millis": 2,
    "execution_start": 1758407842920,
    "source_hash": "2132cf77"
   },
   "outputs": [],
   "outputs_reference": null,
   "source": [
    "outer_valid= skm.ShuffleSplit(n_splits =1,\n",
    "                              test_size =0.25,\n",
    "                              random_state =1)\n",
    "\n",
    "inner_cv= skm.KFold(n_splits =5,\n",
    "                     shuffle=True ,\n",
    "                     random_state =2)\n",
    "\n",
    "ridgeCV= skl.ElasticNetCV(alphas=lambdas,\n",
    "                           l1_ratio =0,\n",
    "                           cv= inner_cv)\n",
    "pipeCV= Pipeline (steps=[('scaler', scaler),\n",
    "                         ('ridge ', ridgeCV)]);"
   ]
  },
  {
   "block_group": "aa3467d1cab54d4593c1fbfd7de8065d",
   "cell_type": "code",
   "content_dependencies": null,
   "execution_count": null,
   "metadata": {
    "cell_id": "df2fe0aa1c0d4a92ae184148a6614069",
    "deepnote_cell_type": "code",
    "execution_context_id": "9b3fcad8-86b5-4818-9081-60f221857353",
    "execution_millis": 385,
    "execution_start": 1758407846712,
    "source_hash": "5790e2bd"
   },
   "outputs": [],
   "outputs_reference": "s3:deepnote-cell-outputs-production/effe90aa-3c88-474e-bcc0-05c5be007f9b",
   "source": [
    "results = skm.cross_validate(pipeCV,\n",
    "                             X,\n",
    "                             Y,\n",
    "                             cv=outer_valid,\n",
    "                             scoring='neg_mean_squared_error')\n",
    "\n",
    "-results['test_score']"
   ]
  },
  {
   "block_group": "7fec504ed9e048a2b401e0b7c4ab3933",
   "cell_type": "markdown",
   "metadata": {
    "cell_id": "012be45789a447e69a98367af6e4cee8",
    "deepnote_cell_type": "markdown"
   },
   "source": [
    "#### The Lasso"
   ]
  },
  {
   "block_group": "1215aeddc04d45af943e0fe8497b703e",
   "cell_type": "code",
   "content_dependencies": null,
   "execution_count": null,
   "metadata": {
    "cell_id": "c8da0e2481c04694afbd2fc29d80267f",
    "deepnote_cell_type": "code",
    "execution_context_id": "9b3fcad8-86b5-4818-9081-60f221857353",
    "execution_millis": 75,
    "execution_start": 1758407860742,
    "source_hash": "4c083060"
   },
   "outputs": [],
   "outputs_reference": "dbtable:cell_outputs/32698c78-b34f-4d72-b481-1fbfbecdb4ff",
   "source": [
    "lassoCV = skl.ElasticNetCV(n_alphas =100,\n",
    "                           l1_ratio =1,\n",
    "                           cv=kfold)\n",
    "\n",
    "pipeCV= Pipeline(steps=[('scaler', scaler),\n",
    "                        ('lasso', lassoCV)])\n",
    "\n",
    "pipeCV.fit(X, Y)\n",
    "tuned_lasso= pipeCV.named_steps['lasso']\n",
    "tuned_lasso.alpha_"
   ]
  },
  {
   "block_group": "ab1ead42d22540e5be436e80371555b7",
   "cell_type": "code",
   "content_dependencies": null,
   "execution_count": null,
   "metadata": {
    "cell_id": "41e18371484d4d34becdd8052f5507c6",
    "deepnote_cell_type": "code",
    "execution_context_id": "9b3fcad8-86b5-4818-9081-60f221857353",
    "execution_millis": 14,
    "execution_start": 1758407867261,
    "source_hash": "d383ec9a"
   },
   "outputs": [],
   "outputs_reference": null,
   "source": [
    "lambdas, soln_array= skl.Lasso.path(Xs,\n",
    "                                    Y,\n",
    "                                    l1_ratio =1,\n",
    "                                    n_alphas =100) [:2]\n",
    "\n",
    "soln_path = pd.DataFrame( soln_array.T,\n",
    "                          columns=D.columns ,\n",
    "                          index=-np.log(lambdas))"
   ]
  },
  {
   "block_group": "cfa501ffc63e4399bda4577a3a99cb71",
   "cell_type": "code",
   "content_dependencies": null,
   "execution_count": null,
   "metadata": {
    "cell_id": "45adc25a38d8461ab504e50655361a0e",
    "deepnote_cell_type": "code",
    "execution_context_id": "9b3fcad8-86b5-4818-9081-60f221857353",
    "execution_millis": 196,
    "execution_start": 1758407884275,
    "source_hash": "3ab20295"
   },
   "outputs": [],
   "outputs_reference": "s3:deepnote-cell-outputs-production/6cd14e86-93cd-42ed-a5ca-541f44452a79",
   "source": [
    "path_fig, ax= subplots(figsize=(8 ,8))\n",
    "soln_path.plot(ax=ax, legend=False)\n",
    "ax.legend(loc='upper left')\n",
    "ax. set_xlabel ('$-\\ log (\\ lambda)$', fontsize =20)\n",
    "ax. set_ylabel ('Standardized coefficiients', fontsize =20);\n",
    "plt.grid(True)\n",
    "plt.show()"
   ]
  },
  {
   "block_group": "49d621674619497ab485a044a51eb2c6",
   "cell_type": "code",
   "content_dependencies": null,
   "execution_count": null,
   "metadata": {
    "cell_id": "4eba043d33a24350b4c059d37cbf7a68",
    "deepnote_cell_type": "code",
    "execution_context_id": "9b3fcad8-86b5-4818-9081-60f221857353",
    "execution_millis": 2,
    "execution_start": 1758407892187,
    "source_hash": "efc7fa59"
   },
   "outputs": [],
   "outputs_reference": "dbtable:cell_outputs/b1e34318-73d0-4355-bc6b-33bfb12bf457",
   "source": [
    "np.min(tuned_lasso.mse_path_.mean(1))"
   ]
  },
  {
   "block_group": "c3b1682e8ca240b7a5c22677d1c71388",
   "cell_type": "code",
   "content_dependencies": null,
   "execution_count": null,
   "metadata": {
    "cell_id": "4363c86e738c46679652a778eac826b3",
    "deepnote_cell_type": "code",
    "execution_context_id": "9b3fcad8-86b5-4818-9081-60f221857353",
    "execution_millis": 118,
    "execution_start": 1758407917583,
    "source_hash": "c6d92789"
   },
   "outputs": [],
   "outputs_reference": "s3:deepnote-cell-outputs-production/fe4797db-e9d3-4b82-8234-f282836b379e",
   "source": [
    "lassoCV_fig, ax= subplots(figsize=(8 ,8))\n",
    "\n",
    "ax. errorbar(-np.log(tuned_lasso.alphas_),\n",
    "             tuned_lasso.mse_path_.mean(1),\n",
    "             yerr=tuned_lasso.mse_path_.std(1) / np.sqrt(K))\n",
    "ax.axvline(-np.log( tuned_lasso .alpha_), c='k', ls='--')\n",
    "ax. set_ylim([50000 ,250000])\n",
    "ax. set_xlabel('$-\\ log (\\ lambda)$', fontsize =20)\n",
    "ax. set_ylabel('Cross - validated MSE', fontsize =20);\n",
    "plt.grid(True)\n",
    "plt.show()"
   ]
  },
  {
   "block_group": "5471644b562f44b1962a3d1cd7e273b1",
   "cell_type": "code",
   "content_dependencies": null,
   "execution_count": null,
   "metadata": {
    "cell_id": "838e08d54b4841be82e45f8f0ec88ae7",
    "deepnote_cell_type": "code",
    "execution_context_id": "9b3fcad8-86b5-4818-9081-60f221857353",
    "execution_millis": 0,
    "execution_start": 1758407921559,
    "source_hash": "38b8ecaa"
   },
   "outputs": [],
   "outputs_reference": "dbtable:cell_outputs/553509ba-068d-41bf-b1e8-6c9e8a692664",
   "source": [
    "tuned_lasso.coef_"
   ]
  },
  {
   "block_group": "e409f7e898f14d5e95290d127fdf8ad6",
   "cell_type": "markdown",
   "metadata": {
    "cell_id": "07f080bc977647b4bb472c954e06a7bd",
    "deepnote_cell_type": "markdown"
   },
   "source": [
    "### PCR and PLS Regression\n",
    "\n",
    "#### Principal Components Regression"
   ]
  },
  {
   "block_group": "3bd84da5269c41b6b4c709b6250ab64f",
   "cell_type": "code",
   "content_dependencies": null,
   "execution_count": null,
   "metadata": {
    "cell_id": "1681d1e7d61d42898f8af3e52f59ac0f",
    "deepnote_cell_type": "code",
    "execution_context_id": "9b3fcad8-86b5-4818-9081-60f221857353",
    "execution_millis": 0,
    "execution_start": 1758407926327,
    "source_hash": "1ea9fc7b"
   },
   "outputs": [],
   "outputs_reference": "dbtable:cell_outputs/cafcc8f9-b2fc-4cf0-85be-19f677479ec2",
   "source": [
    "pca= PCA(n_components =2)\n",
    "\n",
    "linreg= skl.LinearRegression()\n",
    "\n",
    "pipe= Pipeline([('pca', pca),\n",
    "                ('linreg', linreg)])\n",
    "pipe.fit(X, Y)\n",
    "pipe.named_steps['linreg'].coef_"
   ]
  },
  {
   "block_group": "ea9e8b8b96d6497e83f111fb1303d42d",
   "cell_type": "code",
   "content_dependencies": null,
   "execution_count": null,
   "metadata": {
    "cell_id": "e42b59a847d641658bef6110c05c0f10",
    "deepnote_cell_type": "code",
    "execution_context_id": "9b3fcad8-86b5-4818-9081-60f221857353",
    "execution_millis": 3,
    "execution_start": 1758407928510,
    "source_hash": "16db65e2"
   },
   "outputs": [],
   "outputs_reference": "dbtable:cell_outputs/5afb1b40-14f9-43d4-9fed-368075ed2677",
   "source": [
    "pipe = Pipeline([('scaler', scaler),\n",
    "                 ('pca', pca),\n",
    "                 ('linreg', linreg)])\n",
    "pipe.fit(X, Y)\n",
    "pipe.named_steps['linreg'].coef_"
   ]
  },
  {
   "block_group": "c0ec3c5f94e645728512b60e1f493b2f",
   "cell_type": "code",
   "content_dependencies": null,
   "execution_count": null,
   "metadata": {
    "cell_id": "85634f84b95b45c4b386d758b8b9ee84",
    "deepnote_cell_type": "code",
    "execution_context_id": "9b3fcad8-86b5-4818-9081-60f221857353",
    "execution_millis": 219,
    "execution_start": 1758407930490,
    "source_hash": "b5c06a44"
   },
   "outputs": [],
   "outputs_reference": "s3:deepnote-cell-outputs-production/4928cea1-14e0-44ee-80fb-0bbc7aacecd5",
   "source": [
    "param_grid = {'pca__n_components': range (1, 20)}\n",
    "\n",
    "grid = skm.GridSearchCV(pipe,\n",
    "                        param_grid,\n",
    "                        cv=kfold,\n",
    "\n",
    "                        scoring='neg_mean_squared_error')\n",
    "grid.fit(X, Y)"
   ]
  },
  {
   "block_group": "2d23dd6567194f00b80febcc7a5d678e",
   "cell_type": "code",
   "content_dependencies": null,
   "execution_count": null,
   "metadata": {
    "cell_id": "41832b54aed24ea3b0006d671d8ffe28",
    "deepnote_cell_type": "code",
    "execution_context_id": "9b3fcad8-86b5-4818-9081-60f221857353",
    "execution_millis": 85,
    "execution_start": 1758407943307,
    "source_hash": "7045c010"
   },
   "outputs": [],
   "outputs_reference": "s3:deepnote-cell-outputs-production/bda87d35-0554-47dd-a018-cca3fe8e644d",
   "source": [
    "pcr_fig, ax= subplots(figsize =(8 ,8))\n",
    "\n",
    "n_comp= param_grid['pca__n_components']\n",
    "ax. errorbar (n_comp,\n",
    "              -grid. cv_results_ ['mean_test_score'],\n",
    "              grid. cv_results_ ['std_test_score'] / np.sqrt(K))\n",
    "\n",
    "ax. set_ylabel ('Cross - validated MSE', fontsize =20)\n",
    "ax. set_xlabel ('# principal components', fontsize =20)\n",
    "ax. set_xticks (n_comp [::2])\n",
    "ax. set_ylim ([50000 ,250000]);\n",
    "plt.grid(True)\n",
    "plt.show()"
   ]
  },
  {
   "block_group": "677148e922924c72afe9a9aa1917d472",
   "cell_type": "code",
   "content_dependencies": null,
   "execution_count": null,
   "metadata": {
    "cell_id": "02a91f83420741f8ac5fd82005a6a30e",
    "deepnote_cell_type": "code",
    "execution_context_id": "9b3fcad8-86b5-4818-9081-60f221857353",
    "execution_millis": 0,
    "execution_start": 1758407946459,
    "source_hash": "f56047e2"
   },
   "outputs": [],
   "outputs_reference": "dbtable:cell_outputs/be3d7109-8d4b-40f6-a4c8-4b7ef9933fea",
   "source": [
    "Xn = np.zeros((X.shape [0], 1))\n",
    "\n",
    "cv_null = skm.cross_validate(linreg,\n",
    "                             Xn,\n",
    "                             Y,\n",
    "                             cv=kfold,\n",
    "                             scoring='neg_mean_squared_error')\n",
    "\n",
    "-cv_null['test_score'].mean()"
   ]
  },
  {
   "block_group": "93c7cece991f4337a30e741de5c02b41",
   "cell_type": "code",
   "content_dependencies": null,
   "execution_count": null,
   "metadata": {
    "cell_id": "a04ff16c948948d5a317df8a62205063",
    "deepnote_cell_type": "code",
    "execution_context_id": "9b3fcad8-86b5-4818-9081-60f221857353",
    "execution_millis": 0,
    "execution_start": 1758407950283,
    "source_hash": "e78a3d91"
   },
   "outputs": [],
   "outputs_reference": "dbtable:cell_outputs/8654ad2b-db73-4902-8e24-54039c7bce19",
   "source": [
    "pipe.named_steps['pca'].explained_variance_ratio_"
   ]
  },
  {
   "block_group": "c5635d39dc5244bea1bdc842f3c24b3a",
   "cell_type": "markdown",
   "metadata": {
    "cell_id": "d0c06ad8b63f4bbfbf1025cd6c46c871",
    "deepnote_cell_type": "markdown"
   },
   "source": [
    "#### Partial Least Squares"
   ]
  },
  {
   "block_group": "f1e8ff4201794694a23d85514dbaa549",
   "cell_type": "code",
   "content_dependencies": null,
   "execution_count": null,
   "metadata": {
    "cell_id": "2c814ba75b184509956e1b819576c964",
    "deepnote_cell_type": "code",
    "execution_context_id": "9b3fcad8-86b5-4818-9081-60f221857353",
    "execution_millis": 4,
    "execution_start": 1758407954127,
    "source_hash": "ab96c24e"
   },
   "outputs": [],
   "outputs_reference": "s3:deepnote-cell-outputs-production/6a6310bb-9a83-4be8-a9d4-50eb169c2231",
   "source": [
    "pls= PLSRegression(n_components=2,\n",
    "                   scale=True)\n",
    "\n",
    "pls.fit(X, Y)"
   ]
  },
  {
   "block_group": "60bc4d8dad204f148ad733fca57897ec",
   "cell_type": "code",
   "content_dependencies": null,
   "execution_count": null,
   "metadata": {
    "cell_id": "12349d9023d7442082c35ac90bc6538d",
    "deepnote_cell_type": "code",
    "execution_context_id": "9b3fcad8-86b5-4818-9081-60f221857353",
    "execution_millis": 176,
    "execution_start": 1758407956888,
    "source_hash": "ce95142e"
   },
   "outputs": [],
   "outputs_reference": "s3:deepnote-cell-outputs-production/2a87a5d8-8814-4cb0-9406-6767b9539974",
   "source": [
    "param_grid = {'n_components':range(1, 20)}\n",
    "\n",
    "grid = skm.GridSearchCV(pls,\n",
    "                        param_grid,\n",
    "                        cv=kfold,\n",
    "                        scoring='neg_mean_squared_error')\n",
    "\n",
    "grid.fit(X, Y)"
   ]
  },
  {
   "block_group": "2bd11a48f2d24b6abca066a1f46403ba",
   "cell_type": "code",
   "content_dependencies": null,
   "execution_count": null,
   "metadata": {
    "cell_id": "c7c9ab7e27884675a334972099937c4b",
    "deepnote_cell_type": "code",
    "execution_context_id": "9b3fcad8-86b5-4818-9081-60f221857353",
    "execution_millis": 93,
    "execution_start": 1758407971023,
    "source_hash": "cd43e815"
   },
   "outputs": [],
   "outputs_reference": "s3:deepnote-cell-outputs-production/233ca1bc-a4ba-4fd0-9301-120777075dde",
   "source": [
    "pls_fig , ax = subplots(figsize=(8 ,8))\n",
    "\n",
    "n_comp= param_grid ['n_components']\n",
    "\n",
    "ax. errorbar(n_comp,\n",
    "             -grid. cv_results_['mean_test_score'],\n",
    "             grid. cv_results_['std_test_score'] / np.sqrt(K))\n",
    "ax.set_ylabel ('Cross - validated MSE', fontsize =20)\n",
    "ax.set_xlabel ('# principal components', fontsize =20)\n",
    "ax.set_xticks (n_comp [::2])\n",
    "ax.set_ylim ([50000 ,250000]);\n",
    "plt.grid(True)\n",
    "plt.show()"
   ]
  },
  {
   "block_group": "acd210f43b65457394edbf8e571e71bc",
   "cell_type": "code",
   "content_dependencies": null,
   "execution_count": null,
   "metadata": {
    "cell_id": "2a2c8c867a024b56b96726dfc23c909c",
    "deepnote_cell_type": "code"
   },
   "outputs": [],
   "outputs_reference": null,
   "source": []
  },
  {
   "cell_type": "markdown",
   "metadata": {
    "created_in_deepnote_cell": true,
    "deepnote_cell_type": "markdown"
   },
   "source": [
    "<a style='text-decoration:none;line-height:16px;display:flex;color:#5B5B62;padding:10px;justify-content:end;' href='https://deepnote.com?utm_source=created-in-deepnote-cell&projectId=0d3119b6-252a-4a5e-a15d-ac179b275327' target=\"_blank\">\n",
    "<img alt='Created in deepnote.com' style='display:inline;max-height:16px;margin:0px;margin-right:7.5px;' src='data:image/svg+xml;base64,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' > </img>\n",
    "Created in <span style='font-weight:600;margin-left:4px;'>Deepnote</span></a>"
   ]
  }
 ],
 "metadata": {
  "deepnote_notebook_id": "f090fbb50e094250b9cf233bad6e02b3"
 },
 "nbformat": 4,
 "nbformat_minor": 0
}
