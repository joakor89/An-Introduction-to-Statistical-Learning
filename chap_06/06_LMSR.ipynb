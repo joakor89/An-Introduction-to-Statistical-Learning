{
 "cells": [
  {
   "cell_type": "markdown",
   "id": "8a6781df-4d55-4475-b0b8-ec062084be9d",
   "metadata": {},
   "source": [
    "# Linear Model Selection & Regularization\n",
    "\n",
    "### Loading Libraries"
   ]
  },
  {
   "cell_type": "code",
   "execution_count": 1,
   "id": "2e8aa7ec-ec09-4342-8af3-676ea8170b94",
   "metadata": {},
   "outputs": [],
   "source": [
    "# Numerical Computing\n",
    "import numpy as np\n",
    "\n",
    "# Data Manipulation\n",
    "import pandas as pd\n",
    "\n",
    "# Data Visualization\n",
    "from matplotlib.pyplot import subplots\n",
    "\n",
    "# StatsModel\n",
    "from statsmodels .api import OLS\n",
    "\n",
    "# Scikit-Learn\n",
    "import sklearn. linear_model as skl\n",
    "from sklearn. pipeline import Pipeline\n",
    "from sklearn. decomposition import PCA\n",
    "import sklearn. model_selection as skm\n",
    "from sklearn. preprocessing import StandardScaler\n",
    "from sklearn. cross_decomposition import PLSRegression"
   ]
  },
  {
   "cell_type": "code",
   "execution_count": 2,
   "id": "e882ff83-e32a-4af5-89f4-9fd67784abba",
   "metadata": {},
   "outputs": [],
   "source": [
    "# ISLP - Custom Libraries\n",
    "from ISLP import load_data\n",
    "from functools import partial\n",
    "from ISLP.models import ModelSpec as MS\n",
    "from ISLP.models import \\\n",
    "(Stepwise ,\n",
    "sklearn_selected ,\n",
    "sklearn_selection_path )"
   ]
  },
  {
   "cell_type": "code",
   "execution_count": 3,
   "id": "74e223ea-eba1-41ca-837c-1179f83e6878",
   "metadata": {},
   "outputs": [
    {
     "name": "stdout",
     "output_type": "stream",
     "text": [
      "Requirement already satisfied: l0bnb in /opt/anaconda3/lib/python3.12/site-packages (1.0.0)\n",
      "Requirement already satisfied: numpy>=1.18.1 in /opt/anaconda3/lib/python3.12/site-packages (from l0bnb) (1.26.4)\n",
      "Requirement already satisfied: scipy>=1.4.1 in /opt/anaconda3/lib/python3.12/site-packages (from l0bnb) (1.11.4)\n",
      "Requirement already satisfied: numba>=0.53.1 in /opt/anaconda3/lib/python3.12/site-packages (from l0bnb) (0.60.0)\n",
      "Requirement already satisfied: llvmlite<0.44,>=0.43.0dev0 in /opt/anaconda3/lib/python3.12/site-packages (from numba>=0.53.1->l0bnb) (0.43.0)\n"
     ]
    },
    {
     "ename": "ModuleNotFoundError",
     "evalue": "No module named 'l0bnb'",
     "output_type": "error",
     "traceback": [
      "\u001b[0;31m---------------------------------------------------------------------------\u001b[0m",
      "\u001b[0;31mModuleNotFoundError\u001b[0m                       Traceback (most recent call last)",
      "Cell \u001b[0;32mIn[3], line 4\u001b[0m\n\u001b[1;32m      1\u001b[0m get_ipython()\u001b[38;5;241m.\u001b[39msystem(\u001b[38;5;124m'\u001b[39m\u001b[38;5;124mpip install l0bnb\u001b[39m\u001b[38;5;124m'\u001b[39m)\n\u001b[1;32m      3\u001b[0m \u001b[38;5;66;03m# !pip install git+https://github.com/joshmaxey/l0bnb\u001b[39;00m\n\u001b[0;32m----> 4\u001b[0m \u001b[38;5;28;01mfrom\u001b[39;00m\u001b[38;5;250m \u001b[39m\u001b[38;5;21;01ml0bnb\u001b[39;00m\u001b[38;5;250m \u001b[39m\u001b[38;5;28;01mimport\u001b[39;00m fit_path\n",
      "\u001b[0;31mModuleNotFoundError\u001b[0m: No module named 'l0bnb'"
     ]
    }
   ],
   "source": [
    "!pip install l0bnb\n",
    "\n",
    "# !pip install git+https://github.com/joshmaxey/l0bnb\n",
    "from l0bnb import fit_path"
   ]
  },
  {
   "cell_type": "markdown",
   "id": "95738e13-2ef9-404a-9e17-6bae044724f3",
   "metadata": {},
   "source": [
    "### Subset Selection Methods\n",
    "\n",
    "#### Forward Selection"
   ]
  },
  {
   "cell_type": "code",
   "execution_count": null,
   "id": "7d2ecd3e-66d8-4b10-92c7-00b0ee93ae1a",
   "metadata": {},
   "outputs": [],
   "source": [
    "Hitters = load_data ('Hitters')\n",
    "\n",
    "np.isnan(Hitters['Salary']).sum ()"
   ]
  },
  {
   "cell_type": "code",
   "execution_count": null,
   "id": "3b90d458-40b7-42c3-a7ee-5f43ad9580de",
   "metadata": {},
   "outputs": [],
   "source": []
  },
  {
   "cell_type": "code",
   "execution_count": null,
   "id": "8cbea1db-6bf6-4cde-90bc-f2f976df2393",
   "metadata": {},
   "outputs": [],
   "source": []
  },
  {
   "cell_type": "code",
   "execution_count": null,
   "id": "8ed660ca-2e0f-4351-8f53-5ad225847288",
   "metadata": {},
   "outputs": [],
   "source": []
  },
  {
   "cell_type": "code",
   "execution_count": null,
   "id": "c243e6b7-dbbe-4cf5-bbff-a188f60fba9c",
   "metadata": {},
   "outputs": [],
   "source": []
  },
  {
   "cell_type": "code",
   "execution_count": null,
   "id": "a8072a4a-c267-4353-b3ff-1b3240759e0a",
   "metadata": {},
   "outputs": [],
   "source": []
  },
  {
   "cell_type": "code",
   "execution_count": null,
   "id": "cdc03d8f-10ba-43be-864b-2535528e110a",
   "metadata": {},
   "outputs": [],
   "source": []
  },
  {
   "cell_type": "code",
   "execution_count": null,
   "id": "19841224-006a-4f1b-b598-082570e2dbf0",
   "metadata": {},
   "outputs": [],
   "source": []
  },
  {
   "cell_type": "code",
   "execution_count": null,
   "id": "ba851cad-67d0-4da6-98ac-031eedf6d1f4",
   "metadata": {},
   "outputs": [],
   "source": []
  },
  {
   "cell_type": "code",
   "execution_count": null,
   "id": "d3e04f08-f44c-447d-8565-985d80f0f45a",
   "metadata": {},
   "outputs": [],
   "source": []
  },
  {
   "cell_type": "code",
   "execution_count": null,
   "id": "b5dce0a6-fdec-49f6-9a9c-7358f2eeee54",
   "metadata": {},
   "outputs": [],
   "source": []
  },
  {
   "cell_type": "code",
   "execution_count": null,
   "id": "49e6bbef-89b6-4681-b780-5201baaad3da",
   "metadata": {},
   "outputs": [],
   "source": []
  },
  {
   "cell_type": "code",
   "execution_count": null,
   "id": "f2b2719b-a304-445b-95ac-b6cd6592302d",
   "metadata": {},
   "outputs": [],
   "source": []
  },
  {
   "cell_type": "code",
   "execution_count": null,
   "id": "59b1239b-098f-44ac-9b60-218697157e9f",
   "metadata": {},
   "outputs": [],
   "source": []
  },
  {
   "cell_type": "code",
   "execution_count": null,
   "id": "a281662e-501a-4328-9ac7-85f338e0fbb0",
   "metadata": {},
   "outputs": [],
   "source": []
  },
  {
   "cell_type": "code",
   "execution_count": null,
   "id": "fdbcf0bb-c981-4f1d-aef3-160cf48cd3c2",
   "metadata": {},
   "outputs": [],
   "source": []
  },
  {
   "cell_type": "code",
   "execution_count": null,
   "id": "2d9a768c-f795-46a6-a306-f41c9e5949ae",
   "metadata": {},
   "outputs": [],
   "source": []
  },
  {
   "cell_type": "code",
   "execution_count": null,
   "id": "1e589ae5-3b47-4a3c-b655-37415c3cd2cf",
   "metadata": {},
   "outputs": [],
   "source": []
  },
  {
   "cell_type": "code",
   "execution_count": null,
   "id": "c08f2965-0cfe-4d80-8d12-815eb6da2205",
   "metadata": {},
   "outputs": [],
   "source": []
  }
 ],
 "metadata": {
  "kernelspec": {
   "display_name": "Python [conda env:ISLP] *",
   "language": "python",
   "name": "conda-env-ISLP-py"
  },
  "language_info": {
   "codemirror_mode": {
    "name": "ipython",
    "version": 3
   },
   "file_extension": ".py",
   "mimetype": "text/x-python",
   "name": "python",
   "nbconvert_exporter": "python",
   "pygments_lexer": "ipython3",
   "version": "3.10.18"
  }
 },
 "nbformat": 4,
 "nbformat_minor": 5
}
