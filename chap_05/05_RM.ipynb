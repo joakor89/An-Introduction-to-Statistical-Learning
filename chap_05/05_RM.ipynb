{
 "cells": [
  {
   "cell_type": "markdown",
   "id": "0",
   "metadata": {},
   "source": [
    "# Resampling Methods\n",
    "\n",
    "### Loading Libraries"
   ]
  },
  {
   "cell_type": "code",
   "execution_count": null,
   "id": "1",
   "metadata": {},
   "outputs": [],
   "source": [
    "# Numerical Computing\n",
    "import numpy as np\n",
    "\n",
    "# Data Manipulation\n",
    "import pandas as pd\n",
    "\n",
    "# Data Visualization\n",
    "import seaborn\n",
    "import matplotlib.pyplot as plt\n",
    "\n",
    "# StatsModel\n",
    "import statsmodels .api as sm\n",
    "\n",
    "# Functools\n",
    "from functools import partial\n",
    "\n",
    "# Scikit-Learn\n",
    "from sklearn.base import clone\n",
    "from sklearn. model_selection import train_test_split\n",
    "from sklearn. model_selection import \\\n",
    "(cross_validate,\n",
    "KFold,\n",
    "ShuffleSplit)"
   ]
  },
  {
   "cell_type": "code",
   "execution_count": null,
   "id": "2",
   "metadata": {},
   "outputs": [],
   "source": [
    "# Custom Libraries\n",
    "from ISLP import load_data\n",
    "from ISLP.models import (ModelSpec as MS, summarize, poly)\n",
    "from ISLP.models import sklearn_sm"
   ]
  },
  {
   "cell_type": "markdown",
   "id": "3",
   "metadata": {},
   "source": [
    "### The Validation Set Approach"
   ]
  },
  {
   "cell_type": "code",
   "execution_count": null,
   "id": "4",
   "metadata": {},
   "outputs": [],
   "source": [
    "Auto = load_data ('Auto')\n",
    "\n",
    "Auto_train , Auto_valid = train_test_split (Auto,\n",
    "                                            test_size=196,\n",
    "                                            random_state =0)"
   ]
  },
  {
   "cell_type": "code",
   "execution_count": null,
   "id": "5",
   "metadata": {},
   "outputs": [],
   "source": [
    "hp_mm = MS(['horsepower'])\n",
    "\n",
    "X_train = hp_mm. fit_transform ( Auto_train )\n",
    "y_train = Auto_train ['mpg']\n",
    "\n",
    "model = sm.OLS(y_train , X_train)\n",
    "results = model.fit ()"
   ]
  },
  {
   "cell_type": "code",
   "execution_count": null,
   "id": "6",
   "metadata": {},
   "outputs": [],
   "source": [
    "X_valid = hp_mm.transform (Auto_valid)\n",
    "y_valid = Auto_valid ['mpg']\n",
    "\n",
    "valid_pred = results.predict(X_valid)\n",
    "\n",
    "np.mean (( y_valid - valid_pred )**2)"
   ]
  },
  {
   "cell_type": "code",
   "execution_count": null,
   "id": "7",
   "metadata": {},
   "outputs": [],
   "source": [
    "def evalMSE(terms,\n",
    "            response,\n",
    "            train,\n",
    "            test):\n",
    "    mm = MS(terms)\n",
    "    X_train = mm. fit_transform (train)\n",
    "    y_train = train[ response ]\n",
    "    X_test = mm. transform (test)\n",
    "    y_test = test[response]\n",
    "    results = sm.OLS(y_train, X_train).fit()\n",
    "    test_pred = results.predict(X_test)\n",
    "    return np.mean (( y_test - test_pred )**2)"
   ]
  },
  {
   "cell_type": "code",
   "execution_count": null,
   "id": "8",
   "metadata": {},
   "outputs": [],
   "source": [
    "MSE = np.zeros(3)\n",
    "\n",
    "for idx, degree in enumerate(range (1, 4)):\n",
    "    MSE[idx] = evalMSE ([ poly('horsepower', degree)],\n",
    "                        'mpg',\n",
    "                        Auto_train,\n",
    "                        Auto_valid)\n",
    "    \n",
    "MSE"
   ]
  },
  {
   "cell_type": "code",
   "execution_count": null,
   "id": "9",
   "metadata": {},
   "outputs": [],
   "source": [
    "Auto_train, Auto_valid = train_test_split(Auto,\n",
    "                                          test_size =196,\n",
    "                                          random_state =3)\n",
    "MSE = np.zeros(3)\n",
    "\n",
    "for idx, degree in enumerate (range (1, 4)):\n",
    "    MSE[idx] = evalMSE ([poly('horsepower', degree)],\n",
    "                        'mpg',\n",
    "                        Auto_train,\n",
    "                        Auto_valid)\n",
    "    \n",
    "MSE"
   ]
  },
  {
   "cell_type": "markdown",
   "id": "10",
   "metadata": {},
   "source": [
    "### Cross-Validation"
   ]
  },
  {
   "cell_type": "code",
   "execution_count": null,
   "id": "11",
   "metadata": {},
   "outputs": [],
   "source": [
    "hp_model = sklearn_sm(sm.OLS,\n",
    "                      MS(['horsepower']))\n",
    "\n",
    "X, Y = Auto.drop(columns =['mpg']), Auto['mpg']\n",
    "cv_results = cross_validate (hp_model,\n",
    "                             X,\n",
    "                             Y,\n",
    "                             cv=Auto.shape [0])\n",
    "\n",
    "cv_err = np.mean( cv_results ['test_score'])\n",
    "print(cv_err)"
   ]
  },
  {
   "cell_type": "code",
   "execution_count": null,
   "id": "12",
   "metadata": {},
   "outputs": [],
   "source": [
    "cv_error = np.zeros(5)\n",
    "H = np.array(Auto['horsepower'])\n",
    "M = sklearn_sm (sm.OLS)\n",
    "\n",
    "for i, d in enumerate(range(1, 6)):\n",
    "    X = np.power.outer(H, np.arange(d+1))\n",
    "    M_CV = cross_validate (M,\n",
    "                           X,\n",
    "                           Y,\n",
    "                           cv=Auto.shape [0])\n",
    "\n",
    "cv_error [i] = np.mean(M_CV['test_score'])\n",
    "print(cv_error)"
   ]
  },
  {
   "cell_type": "code",
   "execution_count": null,
   "id": "13",
   "metadata": {},
   "outputs": [],
   "source": [
    "A = np.array([3, 5, 9])\n",
    "\n",
    "B = np.array([2, 4])\n",
    "\n",
    "np.add.outer(A, B)"
   ]
  },
  {
   "cell_type": "code",
   "execution_count": null,
   "id": "14",
   "metadata": {},
   "outputs": [],
   "source": [
    "cv_error = np.zeros(5)\n",
    "\n",
    "cv = KFold(n_splits=10,\n",
    "            shuffle=True ,\n",
    "           random_state =0) # use same splits for each degree\n",
    "\n",
    "for i, d in enumerate(range(1, 6)):\n",
    "    X = np.power.outer(H, np.arange(d+1))\n",
    "    M_CV = cross_validate (M,\n",
    "                           X,\n",
    "                           Y,\n",
    "                           cv=cv)\n",
    "\n",
    "cv_error [i] = np.mean(M_CV['test_score'])\n",
    "print(cv_error)"
   ]
  },
  {
   "cell_type": "code",
   "execution_count": null,
   "id": "15",
   "metadata": {},
   "outputs": [],
   "source": [
    "validation = ShuffleSplit(n_splits =1,\n",
    "                          test_size =196,\n",
    "                          random_state =0)\n",
    "\n",
    "results = cross_validate (hp_model,\n",
    "                          Auto.drop(['mpg'], axis =1) ,\n",
    "                          Auto['mpg'],\n",
    "                          cv= validation );\n",
    "\n",
    "results['test_score']"
   ]
  },
  {
   "cell_type": "code",
   "execution_count": null,
   "id": "16",
   "metadata": {},
   "outputs": [],
   "source": [
    "validation = ShuffleSplit(n_splits =10,\n",
    "                          test_size =196,\n",
    "                          random_state =0)\n",
    "\n",
    "results = cross_validate(hp_model,\n",
    "                         Auto.drop (['mpg'], axis =1),\n",
    "                         Auto['mpg'],\n",
    "                         cv= validation)\n",
    "\n",
    "results['test_score'].mean(), results['test_score'].std()"
   ]
  },
  {
   "cell_type": "markdown",
   "id": "17",
   "metadata": {},
   "source": [
    "### The Bootstrap\n",
    "\n",
    "#### Estimating the Accuracy of a Statistic of Interest"
   ]
  },
  {
   "cell_type": "code",
   "execution_count": null,
   "id": "18",
   "metadata": {},
   "outputs": [],
   "source": [
    "Portfolio = load_data ('Portfolio')\n",
    "\n",
    "def alpha_func(D, idx):\n",
    "    cov_ = np.cov(D[['X','Y']]. loc[idx], rowvar=False)\n",
    "    return (( cov_ [1 ,1] - cov_ [0 ,1]) /\n",
    "\n",
    "(cov_ [0 ,0]+ cov_ [1 ,1] -2* cov_ [0 ,1]))"
   ]
  },
  {
   "cell_type": "code",
   "execution_count": null,
   "id": "19",
   "metadata": {},
   "outputs": [],
   "source": [
    "alpha_func(Portfolio, range(100))"
   ]
  },
  {
   "cell_type": "code",
   "execution_count": null,
   "id": "20",
   "metadata": {},
   "outputs": [],
   "source": [
    "rng = np.random. default_rng(0)\n",
    "\n",
    "alpha_func (Portfolio,\n",
    "            rng.choice(100,\n",
    "                       100,\n",
    "                       replace=True))"
   ]
  },
  {
   "cell_type": "code",
   "execution_count": null,
   "id": "21",
   "metadata": {},
   "outputs": [],
   "source": [
    "def boot_SE(func,\n",
    "            D,\n",
    "            n=None,\n",
    "            B=1000,\n",
    "            seed =0):\n",
    "    rng = np.random. default_rng(seed)\n",
    "    first_, second_= 0, 0\n",
    "    n= n or D.shape[0]\n",
    "    for _ in range(B):\n",
    "        idx = rng.choice(D.index,\n",
    "                         n,\n",
    "                         replace=True)\n",
    "        value= func(D, idx)\n",
    "        first_ += value\n",
    "        second_ += value **2\n",
    "        return np.sqrt(second_ / B - (first_ / B)**2)"
   ]
  },
  {
   "cell_type": "code",
   "execution_count": null,
   "id": "22",
   "metadata": {},
   "outputs": [],
   "source": [
    "alpha_SE=boot_SE(alpha_func,\n",
    "                 Portfolio,\n",
    "                 B=1000,\n",
    "                 seed=0)\n",
    "\n",
    "alpha_SE"
   ]
  },
  {
   "cell_type": "markdown",
   "id": "23",
   "metadata": {},
   "source": [
    "#### Estimating The Accuracy of a Linear Regression Model"
   ]
  },
  {
   "cell_type": "code",
   "execution_count": null,
   "id": "24",
   "metadata": {},
   "outputs": [],
   "source": [
    "def boot_OLS (model_matrix, response, D, idx):\n",
    "    D_ = D.loc[idx]\n",
    "    Y_ = D_[ response ]\n",
    "    X_ = clone( model_matrix ).fit_transform(D_)\n",
    "    return sm.OLS(Y_, X_).fit().params"
   ]
  },
  {
   "cell_type": "code",
   "execution_count": null,
   "id": "25",
   "metadata": {},
   "outputs": [],
   "source": [
    "hp_func = partial(boot_OLS, MS(['horsepower']), 'mpg')"
   ]
  },
  {
   "cell_type": "code",
   "execution_count": null,
   "id": "26",
   "metadata": {},
   "outputs": [],
   "source": []
  },
  {
   "cell_type": "code",
   "execution_count": null,
   "id": "27",
   "metadata": {},
   "outputs": [],
   "source": [
    "rng = np.random.default_rng(0)\n",
    "\n",
    "samples = np.array([\n",
    "    hp_func(Auto, rng.choice(Auto.index, size=len(Auto), replace=True))  # <- Labels\n",
    "    for _ in range(10)\n",
    "])\n",
    "\n",
    "# Auto.index[:5], Auto.index.name, Auto.shape"
   ]
  },
  {
   "cell_type": "code",
   "execution_count": null,
   "id": "28",
   "metadata": {},
   "outputs": [],
   "source": [
    "hp_se = boot_SE(hp_func,\n",
    "                Auto,\n",
    "                B=1000,\n",
    "                seed =10)\n",
    "\n",
    "hp_se"
   ]
  },
  {
   "cell_type": "code",
   "execution_count": null,
   "id": "29",
   "metadata": {},
   "outputs": [],
   "source": [
    "hp_model.fit(Auto, Auto['mpg'])\n",
    "\n",
    "model_se = summarize(hp_model.results_ )['std err']\n",
    "model_se"
   ]
  },
  {
   "cell_type": "code",
   "execution_count": null,
   "id": "30",
   "metadata": {},
   "outputs": [],
   "source": [
    "quad_model = MS([ poly('horsepower', 2, raw=True)])\n",
    "\n",
    "quad_func = partial(boot_OLS,\n",
    "                    quad_model,\n",
    "                    'mpg')\n",
    "\n",
    "boot_SE(quad_func , Auto , B=1000)"
   ]
  },
  {
   "cell_type": "code",
   "execution_count": null,
   "id": "31",
   "metadata": {},
   "outputs": [],
   "source": [
    "M = sm.OLS(Auto['mpg'],\n",
    "           quad_model.fit_transform(Auto))\n",
    "\n",
    "summarize (M.fit())['std err']"
   ]
  },
  {
   "cell_type": "code",
   "execution_count": null,
   "id": "32",
   "metadata": {},
   "outputs": [],
   "source": []
  }
 ],
 "metadata": {
  "kernelspec": {
   "display_name": "Python [conda env:ISLP] *",
   "language": "python",
   "name": "conda-env-ISLP-py"
  },
  "language_info": {
   "codemirror_mode": {
    "name": "ipython",
    "version": 3
   },
   "file_extension": ".py",
   "mimetype": "text/x-python",
   "name": "python",
   "nbconvert_exporter": "python",
   "pygments_lexer": "ipython3",
   "version": "3.10.18"
  }
 },
 "nbformat": 4,
 "nbformat_minor": 5
}
