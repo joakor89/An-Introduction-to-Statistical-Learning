{
 "cells": [
  {
   "cell_type": "markdown",
   "id": "38e3e498-d618-4d3e-9ff6-ddefb292d16e",
   "metadata": {},
   "source": [
    "# Resampling Methods\n",
    "\n",
    "### Loading Libraries"
   ]
  },
  {
   "cell_type": "code",
   "execution_count": 1,
   "id": "869b4c6f-1ffc-43d5-bb85-68864211cdf6",
   "metadata": {},
   "outputs": [],
   "source": [
    "# Numerical Computing\n",
    "import numpy as np\n",
    "\n",
    "# Data Manipulation\n",
    "import pandas as pd\n",
    "\n",
    "# Data Visualization\n",
    "import seaborn\n",
    "import matplotlib.pyplot as plt\n",
    "\n",
    "# StatsModel\n",
    "import statsmodels .api as sm\n",
    "\n",
    "# Functools\n",
    "from functools import partial\n",
    "\n",
    "# Scikit-Learn\n",
    "from sklearn.base import clone\n",
    "from sklearn. model_selection import train_test_split\n",
    "from sklearn. model_selection import \\\n",
    "(cross_validate,\n",
    "KFold,\n",
    "ShuffleSplit)"
   ]
  },
  {
   "cell_type": "code",
   "execution_count": 2,
   "id": "fe11618f-3b32-4050-b721-7d9954671117",
   "metadata": {},
   "outputs": [],
   "source": [
    "# Custom Libraries\n",
    "from ISLP import load_data\n",
    "from ISLP.models import (ModelSpec as MS, summarize, poly)\n",
    "from ISLP.models import sklearn_sm"
   ]
  },
  {
   "cell_type": "markdown",
   "id": "b226f7c1-b7f7-4927-baa7-02c34123b92b",
   "metadata": {},
   "source": [
    "### The Validation Set Approach"
   ]
  },
  {
   "cell_type": "code",
   "execution_count": 3,
   "id": "e546ded1-a9eb-4a7f-bdce-0777ea9afd9d",
   "metadata": {},
   "outputs": [],
   "source": [
    "Auto = load_data ('Auto')\n",
    "\n",
    "Auto_train , Auto_valid = train_test_split (Auto,\n",
    "                                            test_size=196,\n",
    "                                            random_state =0)"
   ]
  },
  {
   "cell_type": "code",
   "execution_count": 4,
   "id": "537b9f96-418f-416d-bb92-5e6aa75afb56",
   "metadata": {},
   "outputs": [],
   "source": [
    "hp_mm = MS(['horsepower'])\n",
    "\n",
    "X_train = hp_mm. fit_transform ( Auto_train )\n",
    "y_train = Auto_train ['mpg']\n",
    "\n",
    "model = sm.OLS(y_train , X_train)\n",
    "results = model.fit ()"
   ]
  },
  {
   "cell_type": "code",
   "execution_count": 5,
   "id": "64368fe5-31e0-4cf6-9ac1-03ba3f3aebe0",
   "metadata": {},
   "outputs": [
    {
     "data": {
      "text/plain": [
       "np.float64(23.616617069669886)"
      ]
     },
     "execution_count": 5,
     "metadata": {},
     "output_type": "execute_result"
    }
   ],
   "source": [
    "X_valid = hp_mm.transform (Auto_valid)\n",
    "y_valid = Auto_valid ['mpg']\n",
    "\n",
    "valid_pred = results.predict(X_valid)\n",
    "\n",
    "np.mean (( y_valid - valid_pred )**2)"
   ]
  },
  {
   "cell_type": "code",
   "execution_count": 7,
   "id": "831e6e2c-42b9-497c-a85a-34cb49a21549",
   "metadata": {},
   "outputs": [],
   "source": [
    "def evalMSE(terms,\n",
    "            response,\n",
    "            train,\n",
    "            test):\n",
    "    mm = MS(terms)\n",
    "    X_train = mm. fit_transform (train)\n",
    "    y_train = train[ response ]\n",
    "    X_test = mm. transform (test)\n",
    "    y_test = test[response]\n",
    "    results = sm.OLS(y_train, X_train).fit()\n",
    "    test_pred = results.predict(X_test)\n",
    "    return np.mean (( y_test - test_pred )**2)"
   ]
  },
  {
   "cell_type": "code",
   "execution_count": 8,
   "id": "75f93203-6f34-4336-89bb-4689ae5b9b38",
   "metadata": {},
   "outputs": [
    {
     "data": {
      "text/plain": [
       "array([23.61661707, 18.76303135, 18.79694163])"
      ]
     },
     "execution_count": 8,
     "metadata": {},
     "output_type": "execute_result"
    }
   ],
   "source": [
    "MSE = np.zeros(3)\n",
    "\n",
    "for idx, degree in enumerate(range (1, 4)):\n",
    "    MSE[idx] = evalMSE ([ poly('horsepower', degree)],\n",
    "                        'mpg',\n",
    "                        Auto_train,\n",
    "                        Auto_valid)\n",
    "    \n",
    "MSE"
   ]
  },
  {
   "cell_type": "code",
   "execution_count": 9,
   "id": "95b73587-7ad3-41fd-8960-042004633d84",
   "metadata": {},
   "outputs": [
    {
     "data": {
      "text/plain": [
       "array([20.75540796, 16.94510676, 16.97437833])"
      ]
     },
     "execution_count": 9,
     "metadata": {},
     "output_type": "execute_result"
    }
   ],
   "source": [
    "Auto_train, Auto_valid = train_test_split(Auto,\n",
    "                                          test_size =196,\n",
    "                                          random_state =3)\n",
    "MSE = np.zeros(3)\n",
    "\n",
    "for idx, degree in enumerate (range (1, 4)):\n",
    "    MSE[idx] = evalMSE ([poly('horsepower', degree)],\n",
    "                        'mpg',\n",
    "                        Auto_train,\n",
    "                        Auto_valid)\n",
    "    \n",
    "MSE"
   ]
  },
  {
   "cell_type": "markdown",
   "id": "c6e67066-8df0-45d1-9ad4-da175e96e3cb",
   "metadata": {},
   "source": [
    "### Cross-Validation"
   ]
  },
  {
   "cell_type": "code",
   "execution_count": 14,
   "id": "d91fc5f6-fb22-4db6-a791-578c4f8d18f6",
   "metadata": {},
   "outputs": [
    {
     "name": "stdout",
     "output_type": "stream",
     "text": [
      "24.231513517929233\n"
     ]
    }
   ],
   "source": [
    "hp_model = sklearn_sm(sm.OLS,\n",
    "                      MS(['horsepower']))\n",
    "\n",
    "X, Y = Auto.drop(columns =['mpg']), Auto['mpg']\n",
    "cv_results = cross_validate (hp_model,\n",
    "                             X,\n",
    "                             Y,\n",
    "                             cv=Auto.shape [0])\n",
    "\n",
    "cv_err = np.mean( cv_results ['test_score'])\n",
    "print(cv_err)"
   ]
  },
  {
   "cell_type": "code",
   "execution_count": 17,
   "id": "8c1eff9b-23cf-47c5-839d-0827040c1e5b",
   "metadata": {},
   "outputs": [
    {
     "name": "stdout",
     "output_type": "stream",
     "text": [
      "[ 0.          0.          0.          0.         19.03323829]\n"
     ]
    }
   ],
   "source": [
    "cv_error = np.zeros(5)\n",
    "H = np.array(Auto['horsepower'])\n",
    "M = sklearn_sm (sm.OLS)\n",
    "\n",
    "for i, d in enumerate(range(1, 6)):\n",
    "    X = np.power.outer(H, np.arange(d+1))\n",
    "    M_CV = cross_validate (M,\n",
    "                           X,\n",
    "                           Y,\n",
    "                           cv=Auto.shape [0])\n",
    "\n",
    "cv_error [i] = np.mean(M_CV['test_score'])\n",
    "print(cv_error)"
   ]
  },
  {
   "cell_type": "code",
   "execution_count": 18,
   "id": "01c667d0-f934-4b8e-b5ad-3df039d0a572",
   "metadata": {},
   "outputs": [
    {
     "data": {
      "text/plain": [
       "array([[ 5,  7],\n",
       "       [ 7,  9],\n",
       "       [11, 13]])"
      ]
     },
     "execution_count": 18,
     "metadata": {},
     "output_type": "execute_result"
    }
   ],
   "source": [
    "A = np.array([3, 5, 9])\n",
    "\n",
    "B = np.array([2, 4])\n",
    "\n",
    "np.add.outer(A, B)"
   ]
  },
  {
   "cell_type": "code",
   "execution_count": 19,
   "id": "68135594-e029-4687-9c9e-4e76d19b19ed",
   "metadata": {},
   "outputs": [
    {
     "name": "stdout",
     "output_type": "stream",
     "text": [
      "[ 0.          0.          0.          0.         19.13721179]\n"
     ]
    }
   ],
   "source": [
    "cv_error = np.zeros(5)\n",
    "\n",
    "cv = KFold(n_splits=10,\n",
    "            shuffle=True ,\n",
    "           random_state =0) # use same splits for each degree\n",
    "\n",
    "for i, d in enumerate(range(1, 6)):\n",
    "    X = np.power.outer(H, np.arange(d+1))\n",
    "    M_CV = cross_validate (M,\n",
    "                           X,\n",
    "                           Y,\n",
    "                           cv=cv)\n",
    "\n",
    "cv_error [i] = np.mean(M_CV['test_score'])\n",
    "print(cv_error)"
   ]
  },
  {
   "cell_type": "code",
   "execution_count": 20,
   "id": "f5da40cf-ced4-455e-bbeb-ac1436ab61a4",
   "metadata": {},
   "outputs": [
    {
     "data": {
      "text/plain": [
       "array([23.61661707])"
      ]
     },
     "execution_count": 20,
     "metadata": {},
     "output_type": "execute_result"
    }
   ],
   "source": [
    "validation = ShuffleSplit(n_splits =1,\n",
    "                          test_size =196,\n",
    "                          random_state =0)\n",
    "\n",
    "results = cross_validate (hp_model,\n",
    "                          Auto.drop(['mpg'], axis =1) ,\n",
    "                          Auto['mpg'],\n",
    "                          cv= validation );\n",
    "\n",
    "results['test_score']"
   ]
  },
  {
   "cell_type": "code",
   "execution_count": 22,
   "id": "66a86e40-767c-415b-ae6e-838ed3f68fb6",
   "metadata": {},
   "outputs": [
    {
     "data": {
      "text/plain": [
       "(np.float64(23.80223266103417), np.float64(1.4218450941091954))"
      ]
     },
     "execution_count": 22,
     "metadata": {},
     "output_type": "execute_result"
    }
   ],
   "source": [
    "validation = ShuffleSplit(n_splits =10,\n",
    "                          test_size =196,\n",
    "                          random_state =0)\n",
    "\n",
    "results = cross_validate(hp_model,\n",
    "                         Auto.drop (['mpg'], axis =1),\n",
    "                         Auto['mpg'],\n",
    "                         cv= validation)\n",
    "\n",
    "results['test_score'].mean(), results['test_score'].std()"
   ]
  },
  {
   "cell_type": "markdown",
   "id": "4728603a-a6f6-4fce-b58d-cd76d1a08f12",
   "metadata": {},
   "source": [
    "### The Bootstrap\n",
    "\n",
    "#### Estimating the Accuracy of a Statistic of Interest"
   ]
  },
  {
   "cell_type": "code",
   "execution_count": 23,
   "id": "c69fc706-027e-4310-8249-45914d6289b3",
   "metadata": {},
   "outputs": [],
   "source": [
    "Portfolio = load_data ('Portfolio')\n",
    "\n",
    "def alpha_func(D, idx):\n",
    "    cov_ = np.cov(D[['X','Y']]. loc[idx], rowvar=False)\n",
    "    return (( cov_ [1 ,1] - cov_ [0 ,1]) /\n",
    "\n",
    "(cov_ [0 ,0]+ cov_ [1 ,1] -2* cov_ [0 ,1]))"
   ]
  },
  {
   "cell_type": "code",
   "execution_count": 24,
   "id": "03407e65-64f7-4a3f-adc6-73d7485aa74a",
   "metadata": {},
   "outputs": [
    {
     "data": {
      "text/plain": [
       "np.float64(0.57583207459283)"
      ]
     },
     "execution_count": 24,
     "metadata": {},
     "output_type": "execute_result"
    }
   ],
   "source": [
    "alpha_func(Portfolio, range(100))"
   ]
  },
  {
   "cell_type": "code",
   "execution_count": 26,
   "id": "e57c48e0-e3d6-45e8-8bb7-6e1536a4ed95",
   "metadata": {},
   "outputs": [
    {
     "data": {
      "text/plain": [
       "np.float64(0.6074452469619004)"
      ]
     },
     "execution_count": 26,
     "metadata": {},
     "output_type": "execute_result"
    }
   ],
   "source": [
    "rng = np.random. default_rng(0)\n",
    "\n",
    "alpha_func (Portfolio,\n",
    "            rng.choice(100,\n",
    "                       100,\n",
    "                       replace=True))"
   ]
  },
  {
   "cell_type": "code",
   "execution_count": 30,
   "id": "75a1d8c7-6dd5-4b09-b47b-b6ce6893724b",
   "metadata": {},
   "outputs": [],
   "source": [
    "def boot_SE(func,\n",
    "            D,\n",
    "            n=None,\n",
    "            B=1000,\n",
    "            seed =0):\n",
    "    rng = np.random. default_rng(seed)\n",
    "    first_, second_= 0, 0\n",
    "    n= n or D.shape[0]\n",
    "    for _ in range(B):\n",
    "        idx = rng.choice(D.index,\n",
    "                         n,\n",
    "                         replace=True)\n",
    "        value= func(D, idx)\n",
    "        first_ += value\n",
    "        second_ += value **2\n",
    "        return np.sqrt(second_ / B - (first_ / B)**2)"
   ]
  },
  {
   "cell_type": "code",
   "execution_count": 31,
   "id": "db266150-c9e1-408a-a99c-94cc9fa93f30",
   "metadata": {},
   "outputs": [
    {
     "data": {
      "text/plain": [
       "np.float64(0.019199498387420112)"
      ]
     },
     "execution_count": 31,
     "metadata": {},
     "output_type": "execute_result"
    }
   ],
   "source": [
    "alpha_SE=boot_SE(alpha_func,\n",
    "                 Portfolio,\n",
    "                 B=1000,\n",
    "                 seed=0)\n",
    "\n",
    "alpha_SE"
   ]
  },
  {
   "cell_type": "markdown",
   "id": "ed9a8f65-d63e-4ce0-92c5-8c22596255c4",
   "metadata": {},
   "source": [
    "#### Estimating The Accuracy of a Linear Regression Model"
   ]
  },
  {
   "cell_type": "code",
   "execution_count": null,
   "id": "d83a705b-c65f-48d9-926b-cf4e86ebae11",
   "metadata": {},
   "outputs": [],
   "source": [
    "def boot_OLS (model_matrix , response , D, idx):\n",
    "D_ = D.loc[idx]\n",
    "Y_ = D_[ response ]\n",
    "X_ = clone( model_matrix ). fit_transform (D_)\n",
    "return sm.OLS(Y_ , X_).fit ().params"
   ]
  },
  {
   "cell_type": "code",
   "execution_count": null,
   "id": "ba758d40-2b2a-43d7-be0b-d4944a0d7bf6",
   "metadata": {},
   "outputs": [],
   "source": [
    "hp_func = partial(boot_OLS , MS(['horsepower ']), 'mpg ')"
   ]
  },
  {
   "cell_type": "code",
   "execution_count": null,
   "id": "274cf3dc-7895-4335-b58d-5f463e9a6b78",
   "metadata": {},
   "outputs": [],
   "source": [
    "rng = np.random. default_rng (0)\n",
    "np.array ([ hp_func(Auto ,\n",
    "rng.choice (392 ,\n",
    "392,\n",
    "replace=True)) for _ in range (10) ])"
   ]
  },
  {
   "cell_type": "code",
   "execution_count": null,
   "id": "154eaa10-208c-4290-a56e-23948f801927",
   "metadata": {},
   "outputs": [],
   "source": [
    "hp_se = boot_SE(hp_func ,\n",
    "Auto ,\n",
    "B=1000 ,\n",
    "seed =10)\n",
    "hp_se"
   ]
  },
  {
   "cell_type": "code",
   "execution_count": null,
   "id": "c34f7e08-e3f1-4046-8d35-49153527cf1f",
   "metadata": {},
   "outputs": [],
   "source": [
    "hp_model .fit(Auto , Auto['mpg '])\n",
    "model_se = summarize ( hp_model . results_ )['std err ']\n",
    "model_se"
   ]
  },
  {
   "cell_type": "code",
   "execution_count": null,
   "id": "0c46b02c-818b-4899-886d-fb39b0349979",
   "metadata": {},
   "outputs": [],
   "source": [
    "quad_model = MS([ poly('horsepower ', 2, raw=True)])\n",
    "quad_func = partial(boot_OLS ,\n",
    "quad_model ,\n",
    "'mpg ')\n",
    "boot_SE(quad_func , Auto , B=1000)"
   ]
  },
  {
   "cell_type": "code",
   "execution_count": null,
   "id": "43f9e7e4-abc6-4e8b-80e0-9a7c24b52d0d",
   "metadata": {},
   "outputs": [],
   "source": []
  },
  {
   "cell_type": "code",
   "execution_count": null,
   "id": "45011d09-5139-4890-aaf3-694192811dbe",
   "metadata": {},
   "outputs": [],
   "source": []
  },
  {
   "cell_type": "code",
   "execution_count": null,
   "id": "9ca3c75e-0c7c-42f3-a28a-4e8a621e4a95",
   "metadata": {},
   "outputs": [],
   "source": []
  },
  {
   "cell_type": "code",
   "execution_count": null,
   "id": "02f44ad3-a8d3-4b53-b279-47884185b5f5",
   "metadata": {},
   "outputs": [],
   "source": []
  },
  {
   "cell_type": "code",
   "execution_count": null,
   "id": "eb56c451-ca67-41be-9d9f-144589f6a78c",
   "metadata": {},
   "outputs": [],
   "source": []
  },
  {
   "cell_type": "code",
   "execution_count": null,
   "id": "b9acd940-3e8c-4368-9b7f-5a3f7f76d66d",
   "metadata": {},
   "outputs": [],
   "source": []
  },
  {
   "cell_type": "code",
   "execution_count": null,
   "id": "e9040e4a-eeac-4bc3-a0dc-62437d88488e",
   "metadata": {},
   "outputs": [],
   "source": []
  },
  {
   "cell_type": "code",
   "execution_count": null,
   "id": "5ec2a810-5b8f-4afd-a36d-4d9f4748232c",
   "metadata": {},
   "outputs": [],
   "source": []
  }
 ],
 "metadata": {
  "kernelspec": {
   "display_name": "Python [conda env:ISLP] *",
   "language": "python",
   "name": "conda-env-ISLP-py"
  },
  "language_info": {
   "codemirror_mode": {
    "name": "ipython",
    "version": 3
   },
   "file_extension": ".py",
   "mimetype": "text/x-python",
   "name": "python",
   "nbconvert_exporter": "python",
   "pygments_lexer": "ipython3",
   "version": "3.10.18"
  }
 },
 "nbformat": 4,
 "nbformat_minor": 5
}
