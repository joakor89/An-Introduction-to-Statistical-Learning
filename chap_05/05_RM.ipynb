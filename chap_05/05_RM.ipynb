version https://git-lfs.github.com/spec/v1
oid sha256:b043e6d57dec5f2d730af1e61f300765fc8c03185c26d6a3ff24c81a4b75b750
size 17139
