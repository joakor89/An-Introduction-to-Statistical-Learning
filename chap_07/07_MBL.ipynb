{
 "cells": [
  {
   "cell_type": "markdown",
   "id": "1267fd57-4976-49d0-93fd-843706c86558",
   "metadata": {},
   "source": [
    "# Moving Beyond Linearity\n",
    "\n",
    "### Loading Libraries"
   ]
  },
  {
   "cell_type": "code",
   "execution_count": 1,
   "id": "8cb261f4-2028-49b3-b392-70ae9e57243b",
   "metadata": {},
   "outputs": [],
   "source": [
    "# Numerical Computing\n",
    "import numpy as np\n",
    "\n",
    "# Data Manipulation\n",
    "import pandas as pd\n",
    "\n",
    "# Data Visualization\n",
    "from matplotlib.pyplot import subplots\n",
    "\n",
    "# StatsModel\n",
    "import statsmodels.api as sm\n",
    "from statsmodels.stats.anova import anova_lm\n",
    "\n",
    "# ISLP\n",
    "from ISLP import load_data\n",
    "from ISLP.models import bs, ns\n",
    "from ISLP. transforms import (BSpline, NaturalSpline)\n",
    "from ISLP.models import (summarize, poly, ModelSpec as MS)\n",
    "from ISLP.pygam import (approx_lam, degrees_of_freedom, plot as plot_gam, anova as anova_gam)\n",
    "\n",
    "# PyGam\n",
    "from pygam import (s as s_gam, l as l_gam, f as f_gam, LinearGAM, LogisticGAM)"
   ]
  },
  {
   "cell_type": "code",
   "execution_count": null,
   "id": "387c5486-83e5-4eb5-bef6-2086ed965a07",
   "metadata": {},
   "outputs": [],
   "source": [
    "### Non-Linear Modeling\n",
    "\n",
    "####"
   ]
  },
  {
   "cell_type": "code",
   "execution_count": null,
   "id": "94753e19-7bc6-46ed-979f-f65cafb6db3f",
   "metadata": {},
   "outputs": [],
   "source": []
  },
  {
   "cell_type": "code",
   "execution_count": null,
   "id": "841e19f8-e2cb-4b87-802a-05a779bc2351",
   "metadata": {},
   "outputs": [],
   "source": []
  },
  {
   "cell_type": "code",
   "execution_count": null,
   "id": "822e83bf-1aed-4bd5-8ed3-92f697c4f141",
   "metadata": {},
   "outputs": [],
   "source": []
  },
  {
   "cell_type": "code",
   "execution_count": null,
   "id": "e1a4e805-42bf-433f-bb27-dcc4b2c74e16",
   "metadata": {},
   "outputs": [],
   "source": []
  },
  {
   "cell_type": "code",
   "execution_count": null,
   "id": "8592488c-6978-4b43-9043-f68cdcc43eba",
   "metadata": {},
   "outputs": [],
   "source": []
  },
  {
   "cell_type": "code",
   "execution_count": null,
   "id": "7087d83e-1522-4482-b792-d0f29f19d3e9",
   "metadata": {},
   "outputs": [],
   "source": []
  },
  {
   "cell_type": "code",
   "execution_count": null,
   "id": "608985ff-01ab-4a3a-8db7-ee5c6d99941f",
   "metadata": {},
   "outputs": [],
   "source": []
  },
  {
   "cell_type": "code",
   "execution_count": null,
   "id": "025b850a-7c7f-4038-be7d-28c61df5d211",
   "metadata": {},
   "outputs": [],
   "source": []
  },
  {
   "cell_type": "code",
   "execution_count": null,
   "id": "7f3714d7-0a14-4fb9-b576-291e75ccafa3",
   "metadata": {},
   "outputs": [],
   "source": []
  },
  {
   "cell_type": "code",
   "execution_count": null,
   "id": "aa65b455-9edd-4fc5-9e62-b743a4be37b8",
   "metadata": {},
   "outputs": [],
   "source": []
  },
  {
   "cell_type": "code",
   "execution_count": null,
   "id": "f6087ca3-097b-40b1-9680-2abbfea88e42",
   "metadata": {},
   "outputs": [],
   "source": []
  }
 ],
 "metadata": {
  "kernelspec": {
   "display_name": "Python [conda env:ISLP] *",
   "language": "python",
   "name": "conda-env-ISLP-py"
  },
  "language_info": {
   "codemirror_mode": {
    "name": "ipython",
    "version": 3
   },
   "file_extension": ".py",
   "mimetype": "text/x-python",
   "name": "python",
   "nbconvert_exporter": "python",
   "pygments_lexer": "ipython3",
   "version": "3.10.18"
  }
 },
 "nbformat": 4,
 "nbformat_minor": 5
}
