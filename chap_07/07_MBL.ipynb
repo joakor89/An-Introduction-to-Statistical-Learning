{
 "cells": [
  {
   "cell_type": "markdown",
   "id": "0",
   "metadata": {},
   "source": [
    "# Moving Beyond Linearity\n",
    "\n",
    "### Loading Libraries"
   ]
  },
  {
   "cell_type": "code",
   "execution_count": null,
   "id": "1",
   "metadata": {},
   "outputs": [],
   "source": [
    "# Numerical Computing\n",
    "import numpy as np\n",
    "\n",
    "# Data Manipulation\n",
    "import pandas as pd\n",
    "\n",
    "# Data Visualization\n",
    "import matplotlib.pyplot as plt\n",
    "from matplotlib.pyplot import subplots\n",
    "\n",
    "# StatsModel\n",
    "import statsmodels.api as sm\n",
    "from statsmodels.stats.anova import anova_lm\n",
    "\n",
    "# ISLP\n",
    "from ISLP import load_data\n",
    "from ISLP.models import bs, ns\n",
    "from ISLP. transforms import (BSpline, NaturalSpline)\n",
    "from ISLP.models import (summarize, poly, ModelSpec as MS)\n",
    "from ISLP.pygam import (approx_lam, degrees_of_freedom, plot as plot_gam, anova as anova_gam)\n",
    "\n",
    "# PyGam\n",
    "from pygam import (s as s_gam, l as l_gam, f as f_gam, LinearGAM, LogisticGAM)"
   ]
  },
  {
   "cell_type": "markdown",
   "id": "2",
   "metadata": {},
   "source": [
    "### Non-Linear Modeling\n",
    "\n",
    "#### Polynomial Regression & Step Functions"
   ]
  },
  {
   "cell_type": "code",
   "execution_count": null,
   "id": "3",
   "metadata": {},
   "outputs": [],
   "source": [
    "Wage = load_data('Wage')\n",
    "\n",
    "y = Wage['wage']\n",
    "\n",
    "age = Wage['age']"
   ]
  },
  {
   "cell_type": "code",
   "execution_count": null,
   "id": "4",
   "metadata": {},
   "outputs": [],
   "source": [
    "poly_age = MS([ poly('age', degree =4) ]).fit(Wage)\n",
    "\n",
    "M = sm.OLS(y, poly_age.transform(Wage)).fit()\n",
    "\n",
    "summarize (M)"
   ]
  },
  {
   "cell_type": "code",
   "execution_count": null,
   "id": "5",
   "metadata": {},
   "outputs": [],
   "source": [
    "age_grid = np.linspace(age.min(),\n",
    "                       age.max(),\n",
    "                       100)\n",
    "\n",
    "age_df = pd. DataFrame ({'age': age_grid })"
   ]
  },
  {
   "cell_type": "code",
   "execution_count": null,
   "id": "6",
   "metadata": {},
   "outputs": [],
   "source": [
    "def plot_wage_fit(age_df ,basis, title):\n",
    "    X = basis.transform(Wage)\n",
    "    Xnew = basis.transform(age_df)\n",
    "    M = sm.OLS(y, X).fit()\n",
    "    preds = M. get_prediction(Xnew)\n",
    "    bands = preds.conf_int(alpha =0.05)\n",
    "    fig , ax = subplots (figsize =(8 ,8))\n",
    "    ax.scatter(age,\n",
    "               y,\n",
    "               facecolor ='gray',\n",
    "               alpha =0.5)\n",
    "    for val, ls in zip ([ preds.predicted_mean,\n",
    "                          bands [:, 0],\n",
    "                          bands [:, 1]],\n",
    "                        ['b','r--','r--']):\n",
    "        ax.plot(age_df.values, val , ls , linewidth =3)\n",
    "        ax. set_title (title, fontsize =20)\n",
    "        ax. set_xlabel ('Age', fontsize =20)\n",
    "        ax. set_ylabel ('Wage', fontsize =20);\n",
    "        return ax"
   ]
  },
  {
   "cell_type": "code",
   "execution_count": null,
   "id": "7",
   "metadata": {},
   "outputs": [],
   "source": [
    "plot_wage_fit(age_df,\n",
    "              poly_age,\n",
    "              'Degree -4 Polynomial');"
   ]
  },
  {
   "cell_type": "code",
   "execution_count": null,
   "id": "8",
   "metadata": {},
   "outputs": [],
   "source": [
    "models = [MS([poly('age', degree=d)])\n",
    "          for d in range (1, 6)]\n",
    "\n",
    "Xs = [model. fit_transform(Wage) for model in models]\n",
    "anova_lm (*[sm.OLS(y, X_).fit()\n",
    "            for X_ in Xs])"
   ]
  },
  {
   "cell_type": "code",
   "execution_count": null,
   "id": "9",
   "metadata": {},
   "outputs": [],
   "source": [
    "summarize(M)"
   ]
  },
  {
   "cell_type": "code",
   "execution_count": null,
   "id": "10",
   "metadata": {},
   "outputs": [],
   "source": [
    "(-11.983) **2"
   ]
  },
  {
   "cell_type": "code",
   "execution_count": null,
   "id": "11",
   "metadata": {},
   "outputs": [],
   "source": [
    "models = [MS(['education', poly('age', degree=d)])\n",
    "          for d in range(1, 4)]\n",
    "\n",
    "XEs = [model.fit_transform(Wage)\n",
    "       for model in models]\n",
    "\n",
    "anova_lm (*[ sm.OLS(y, X_).fit() for X_ in XEs ])"
   ]
  },
  {
   "cell_type": "code",
   "execution_count": null,
   "id": "12",
   "metadata": {},
   "outputs": [],
   "source": [
    "X = poly_age.transform (Wage)\n",
    "high_earn = Wage['high_earn'] = y > 250 # shorthand\n",
    "\n",
    "glm = sm.GLM(y > 250,\n",
    "             X,\n",
    "             family=sm.families.Binomial())\n",
    "\n",
    "B = glm.fit()\n",
    "summarize (B)"
   ]
  },
  {
   "cell_type": "code",
   "execution_count": null,
   "id": "13",
   "metadata": {},
   "outputs": [],
   "source": [
    "newX = poly_age.transform(age_df)\n",
    "\n",
    "preds = B.get_prediction(newX)\n",
    "bands = preds.conf_int(alpha=0.05)"
   ]
  },
  {
   "cell_type": "code",
   "execution_count": null,
   "id": "14",
   "metadata": {},
   "outputs": [],
   "source": [
    "fig , ax = subplots (figsize=(8, 8))\n",
    "\n",
    "rng = np.random. default_rng(0)\n",
    "ax.scatter(age +\n",
    "           0.2 * rng.uniform(size=y.shape[0]),\n",
    "           np.where(high_earn , 0.198 , 0.002),\n",
    "           fc='gray',\n",
    "           marker='|')\n",
    "\n",
    "for val, ls in zip([ preds.predicted_mean,\n",
    "                     bands [:, 0],\n",
    "                     bands [:, 1]],\n",
    "                   ['b','r--','r--']):\n",
    "    ax.plot(age_df.values, val, ls, linewidth =3)\n",
    "    ax. set_title ('Degree -4 Polynomial', fontsize =20)\n",
    "    ax. set_xlabel ('Age', fontsize =20)\n",
    "    ax. set_ylim ([0 ,0.2])\n",
    "    ax. set_ylabel ('P(Wage > 250)', fontsize =20);\n",
    "    plt.grid()"
   ]
  },
  {
   "cell_type": "code",
   "execution_count": null,
   "id": "15",
   "metadata": {},
   "outputs": [],
   "source": [
    "cut_age = pd.qcut(age, 4)\n",
    "\n",
    "summarize (sm.OLS(y, pd.get_dummies(cut_age)).fit())"
   ]
  },
  {
   "cell_type": "markdown",
   "id": "16",
   "metadata": {},
   "source": [
    "#### Splines"
   ]
  },
  {
   "cell_type": "code",
   "execution_count": null,
   "id": "17",
   "metadata": {},
   "outputs": [],
   "source": [
    "bs_ = BSpline(internal_knots =[25 ,40 ,60], intercept =True).fit(age)\n",
    "\n",
    "bs_age = bs_.transform(age)\n",
    "bs_age.shape"
   ]
  },
  {
   "cell_type": "code",
   "execution_count": null,
   "id": "18",
   "metadata": {},
   "outputs": [],
   "source": [
    "bs_age = MS([bs('age', internal_knots =[25 ,40 ,60])])\n",
    "\n",
    "Xbs = bs_age.fit_transform(Wage)\n",
    "\n",
    "M = sm.OLS(y, Xbs).fit()\n",
    "summarize (M)"
   ]
  },
  {
   "cell_type": "code",
   "execution_count": null,
   "id": "19",
   "metadata": {},
   "outputs": [],
   "source": [
    "bs_age = MS([bs('age',\n",
    "                internal_knots=[25 ,40 ,60],\n",
    "                name='bs(age)')])\n",
    "\n",
    "Xbs = bs_age.fit_transform(Wage)\n",
    "M = sm.OLS(y, Xbs).fit()\n",
    "summarize (M)"
   ]
  },
  {
   "cell_type": "code",
   "execution_count": null,
   "id": "20",
   "metadata": {},
   "outputs": [],
   "source": [
    "BSpline(df=6).fit(age).internal_knots_"
   ]
  },
  {
   "cell_type": "code",
   "execution_count": null,
   "id": "21",
   "metadata": {},
   "outputs": [],
   "source": [
    "bs_age0 = MS([bs('age',\n",
    "                 df=3,\n",
    "                 degree =0) ]).fit(Wage)\n",
    "\n",
    "Xbs0 = bs_age0. transform (Wage)\n",
    "\n",
    "summarize (sm.OLS(y, Xbs0).fit())"
   ]
  },
  {
   "cell_type": "code",
   "execution_count": null,
   "id": "22",
   "metadata": {},
   "outputs": [],
   "source": [
    "ns_age = MS([ns('age', df =5)]).fit(Wage)\n",
    "\n",
    "M_ns = sm.OLS(y, ns_age.transform(Wage)).fit()\n",
    "\n",
    "summarize (M_ns)"
   ]
  },
  {
   "cell_type": "code",
   "execution_count": null,
   "id": "23",
   "metadata": {},
   "outputs": [],
   "source": [
    "plot_wage_fit (age_df,\n",
    "               ns_age,\n",
    "               'Natural spline, df=5');\n",
    "\n",
    "plt.grid(True)"
   ]
  },
  {
   "cell_type": "markdown",
   "id": "24",
   "metadata": {},
   "source": [
    "#### Smoothing Splines & GAMs"
   ]
  },
  {
   "cell_type": "code",
   "execution_count": null,
   "id": "25",
   "metadata": {},
   "outputs": [],
   "source": [
    "X_age = np.asarray(age).reshape(( -1 ,1))\n",
    "\n",
    "gam = LinearGAM (s_gam (0, lam =0.6))\n",
    "gam.fit(X_age, y)"
   ]
  },
  {
   "cell_type": "code",
   "execution_count": null,
   "id": "26",
   "metadata": {},
   "outputs": [],
   "source": [
    "fig , ax = subplots(figsize =(8, 8))\n",
    "\n",
    "ax.scatter(age, y, facecolor ='gray', alpha =0.5)\n",
    "\n",
    "for lam in np. logspace (-2, 6, 5):\n",
    "    gam = LinearGAM (s_gam (0, lam=lam)).fit(X_age, y)\n",
    "    ax.plot(age_grid,\n",
    "            gam.predict( age_grid),\n",
    "            label='{:.1e}'.format(lam),\n",
    "            linewidth=3)\n",
    "    ax.set_xlabel ('Age', fontsize =20)\n",
    "    ax.set_ylabel ('Wage', fontsize =20);\n",
    "    ax.legend(title='$\\ lambda$');\n",
    "    plt.grid()"
   ]
  },
  {
   "cell_type": "code",
   "execution_count": null,
   "id": "27",
   "metadata": {},
   "outputs": [],
   "source": [
    "gam_opt = gam. gridsearch (X_age , y)\n",
    "ax.plot(age_grid ,\n",
    "gam_opt.predict( age_grid ),\n",
    "label='Grid search ',\n",
    "linewidth =4)\n",
    "ax.legend ()\n",
    "fig"
   ]
  },
  {
   "cell_type": "code",
   "execution_count": null,
   "id": "28",
   "metadata": {},
   "outputs": [],
   "source": [
    "age_term = gam.terms[0]\n",
    "\n",
    "lam_4 = approx_lam (X_age, age_term, 4)\n",
    "\n",
    "age_term.lam = lam_4\n",
    "degrees_of_freedom (X_age, age_term )"
   ]
  },
  {
   "cell_type": "code",
   "execution_count": null,
   "id": "29",
   "metadata": {},
   "outputs": [],
   "source": [
    "fig , ax = subplots (figsize =(8 ,8))\n",
    "\n",
    "ax.scatter(X_age,\n",
    "           y,\n",
    "           facecolor ='gray',\n",
    "           alpha =0.3)\n",
    "\n",
    "for df in [1, 3, 4, 8, 15]:\n",
    "    lam = approx_lam(X_age , age_term , df +1)\n",
    "    age_term.lam = lam\n",
    "    gam.fit(X_age, y)\n",
    "\n",
    "ax.plot(age_grid,\n",
    "        gam.predict(age_grid),\n",
    "        label='{:d}'.format(df),\n",
    "        linewidth =4)\n",
    "\n",
    "ax.set_xlabel('Age', fontsize =20)\n",
    "ax.set_ylabel('Wage', fontsize =20);\n",
    "ax.legend(title='Degrees of freedom ');\n",
    "plt.grid()"
   ]
  },
  {
   "cell_type": "markdown",
   "id": "30",
   "metadata": {},
   "source": [
    "#### Additive Models with Several Terms"
   ]
  },
  {
   "cell_type": "code",
   "execution_count": null,
   "id": "31",
   "metadata": {},
   "outputs": [],
   "source": [
    "ns_age = NaturalSpline(df =4).fit(age)\n",
    "ns_year = NaturalSpline (df =5).fit(Wage['year'])\n",
    "\n",
    "Xs = [ns_age.transform (age),\n",
    "      ns_year.transform (Wage['year']),\n",
    "      pd. get_dummies(Wage['education']).values]\n",
    "\n",
    "X_bh = np.hstack(Xs)\n",
    "gam_bh = sm.OLS(y, X_bh).fit()"
   ]
  },
  {
   "cell_type": "code",
   "execution_count": null,
   "id": "32",
   "metadata": {},
   "outputs": [],
   "source": [
    "age_grid = np.linspace(age.min(),\n",
    "                       age.max(),\n",
    "                       100)\n",
    "\n",
    "X_age_bh = X_bh.copy()[:100]\n",
    "X_age_bh[:] = X_bh[:].mean(0)[None, :]\n",
    "X_age_bh [: ,:4] = ns_age.transform(age_grid)\n",
    "\n",
    "preds = gam_bh.get_prediction(X_age_bh)\n",
    "bounds_age = preds.conf_int(alpha=0.05)\n",
    "partial_age = preds.predicted_mean\n",
    "center = partial_age.mean()\n",
    "partial_age -= center\n",
    "bounds_age -= center\n",
    "\n",
    "fig , ax = subplots(figsize=(8, 8))\n",
    "ax.plot(age_grid, partial_age, 'b', linewidth =3)\n",
    "ax.plot(age_grid, bounds_age[:,0], 'r--', linewidth =3)\n",
    "ax.plot(age_grid, bounds_age[:,1], 'r--', linewidth =3)\n",
    "ax. set_xlabel ('Age')\n",
    "ax. set_ylabel ('Effect on wage')\n",
    "ax. set_title ('Partial dependence of age on wage', fontsize =20);\n",
    "plt.grid()"
   ]
  },
  {
   "cell_type": "code",
   "execution_count": null,
   "id": "33",
   "metadata": {},
   "outputs": [],
   "source": [
    "year_grid = np.linspace (2003, 2009, 100)\n",
    "year_grid = np.linspace (Wage['year'].min(), Wage['year'].max(),100)\n",
    "\n",
    "X_year_bh = X_bh.copy()[:100]\n",
    "X_year_bh[:] = X_bh[:].mean(0)[None, :]\n",
    "X_year_bh[: ,4:9] = ns_year.transform(year_grid)\n",
    "\n",
    "preds = gam_bh.get_prediction(X_year_bh)\n",
    "bounds_year = preds.conf_int(alpha=0.05)\n",
    "partial_year = preds.predicted_mean\n",
    "center = partial_year.mean()\n",
    "partial_year -= center\n",
    "bounds_year -= center\n",
    "\n",
    "fig , ax = subplots(figsize =(8, 8))\n",
    "ax.plot(year_grid, partial_year, 'b', linewidth =3)\n",
    "ax.plot(year_grid, bounds_year[:,0], 'r--', linewidth =3)\n",
    "ax.plot(year_grid, bounds_year[:,1], 'r--', linewidth =3)\n",
    "ax. set_xlabel ('Year')\n",
    "ax. set_ylabel ('Effect on wage')\n",
    "ax. set_title ('Partial dependence of year on wage', fontsize =20);\n",
    "plt.grid()"
   ]
  },
  {
   "cell_type": "code",
   "execution_count": null,
   "id": "34",
   "metadata": {},
   "outputs": [],
   "source": [
    "gam_full = LinearGAM(s_gam (0) +\n",
    "                     s_gam (1, n_splines=7) +\n",
    "                     f_gam (2, lam=0))\n",
    "\n",
    "Xgam = np.column_stack([age,\n",
    "                        Wage['year'],\n",
    "                        Wage['education'].cat.codes])\n",
    "\n",
    "gam_full = gam_full .fit(Xgam , y)"
   ]
  },
  {
   "cell_type": "code",
   "execution_count": null,
   "id": "35",
   "metadata": {},
   "outputs": [],
   "source": [
    "fig , ax = subplots(figsize =(8 ,8))\n",
    "plot_gam (gam_full, 0, ax=ax)\n",
    "ax.set_xlabel('Age')\n",
    "ax.set_ylabel('Effect on wage')\n",
    "ax.set_title ('Partial dependence of age on wage - default lam =0.6',\n",
    "              fontsize =20);\n",
    "plt.grid()"
   ]
  },
  {
   "cell_type": "code",
   "execution_count": null,
   "id": "36",
   "metadata": {},
   "outputs": [],
   "source": [
    "age_term = gam_full.terms[0]\n",
    "age_term.lam = approx_lam (Xgam, age_term, df =4+1)\n",
    "\n",
    "year_term = gam_full.terms[1]\n",
    "year_term.lam = approx_lam (Xgam, year_term, df =4+1)\n",
    "\n",
    "gam_full = gam_full.fit(Xgam, y)"
   ]
  },
  {
   "cell_type": "code",
   "execution_count": null,
   "id": "37",
   "metadata": {},
   "outputs": [],
   "source": [
    "fig, ax = subplots(figsize =(8, 8))\n",
    "plot_gam (gam_full,\n",
    "          1,\n",
    "          ax=ax)\n",
    "ax.set_xlabel ('Year')\n",
    "ax.set_ylabel ('Effect on wage')\n",
    "ax.set_title ('Partial dependence of year on wage', fontsize =20)\n",
    "plt.grid()"
   ]
  },
  {
   "cell_type": "code",
   "execution_count": null,
   "id": "38",
   "metadata": {},
   "outputs": [],
   "source": [
    "fig , ax = subplots (figsize =(8, 8))\n",
    "\n",
    "ax = plot_gam(gam_full , 2)\n",
    "ax. set_xlabel('Education')\n",
    "ax. set_ylabel('Effect on wage')\n",
    "ax. set_title('Partial dependence of wage on education',fontsize =20);\n",
    "ax. set_xticklabels(Wage['education'].cat.categories, fontsize =8);\n",
    "plt.grid()"
   ]
  },
  {
   "cell_type": "markdown",
   "id": "39",
   "metadata": {},
   "source": [
    "#### ANOVA Tests for Additive Models"
   ]
  },
  {
   "cell_type": "code",
   "execution_count": null,
   "id": "40",
   "metadata": {},
   "outputs": [],
   "source": [
    "gam_0 = LinearGAM(age_term + f_gam (2, lam =0))\n",
    "gam_0.fit(Xgam, y)\n",
    "\n",
    "gam_linear = LinearGAM(age_term +\n",
    "                       l_gam(1, lam =0) +\n",
    "                       f_gam(2, lam =0))\n",
    "\n",
    "gam_linear.fit(Xgam, y)"
   ]
  },
  {
   "cell_type": "code",
   "execution_count": null,
   "id": "41",
   "metadata": {},
   "outputs": [],
   "source": [
    "anova_gam(gam_0, gam_linear, gam_full)"
   ]
  },
  {
   "cell_type": "code",
   "execution_count": null,
   "id": "42",
   "metadata": {},
   "outputs": [],
   "source": [
    "gam_0 = LinearGAM(year_term +\n",
    "                  f_gam(2, lam =0))\n",
    "\n",
    "gam_linear = LinearGAM(l_gam(0, lam =0) +\n",
    "                       year_term +\n",
    "                       f_gam(2, lam =0))\n",
    "\n",
    "gam_0.fit(Xgam, y)\n",
    "gam_linear.fit(Xgam, y)\n",
    "\n",
    "anova_gam(gam_0 , gam_linear , gam_full)"
   ]
  },
  {
   "cell_type": "code",
   "execution_count": null,
   "id": "43",
   "metadata": {},
   "outputs": [],
   "source": [
    "gam_full.summary()"
   ]
  },
  {
   "cell_type": "code",
   "execution_count": null,
   "id": "44",
   "metadata": {},
   "outputs": [],
   "source": [
    "Yhat = gam_full.predict(Xgam)"
   ]
  },
  {
   "cell_type": "code",
   "execution_count": null,
   "id": "45",
   "metadata": {},
   "outputs": [],
   "source": [
    "gam_logit = LogisticGAM(age_term +\n",
    "                        l_gam(1, lam =0) +\n",
    "                        f_gam(2, lam =0))\n",
    "\n",
    "gam_logit.fit(Xgam, high_earn)"
   ]
  },
  {
   "cell_type": "code",
   "execution_count": null,
   "id": "46",
   "metadata": {},
   "outputs": [],
   "source": [
    "fig , ax = subplots(figsize =(8, 8))\n",
    "\n",
    "ax = plot_gam(gam_logit, 2)\n",
    "ax.set_xlabel('Education')\n",
    "ax.set_ylabel('Effect on wage')\n",
    "ax.set_title('Partial dependence of wage on education', fontsize =20);\n",
    "ax.set_xticklabels(Wage['education'].cat.categories, fontsize =8);\n",
    "plt.grid()"
   ]
  },
  {
   "cell_type": "code",
   "execution_count": null,
   "id": "47",
   "metadata": {},
   "outputs": [],
   "source": [
    "pd.crosstab(Wage['high_earn'], Wage['education'])"
   ]
  },
  {
   "cell_type": "code",
   "execution_count": null,
   "id": "48",
   "metadata": {},
   "outputs": [],
   "source": [
    "only_hs = Wage['education'] == '1. < HS Grad'\n",
    "\n",
    "Wage_ = Wage.loc[~only_hs]\n",
    "Xgam_ = np.column_stack([ Wage_['age'],\n",
    "                          Wage_['year'],\n",
    "                          Wage_['education'].cat.codes -1])\n",
    "\n",
    "high_earn_ = Wage_['high_earn']"
   ]
  },
  {
   "cell_type": "code",
   "execution_count": null,
   "id": "49",
   "metadata": {},
   "outputs": [],
   "source": [
    "gam_logit_ = LogisticGAM(age_term +\n",
    "                         year_term +\n",
    "                         f_gam(2, lam =0))\n",
    "\n",
    "gam_logit_ .fit(Xgam_, high_earn_)"
   ]
  },
  {
   "cell_type": "code",
   "execution_count": null,
   "id": "50",
   "metadata": {},
   "outputs": [],
   "source": [
    "fig , ax = subplots(figsize=(8, 8))\n",
    "\n",
    "ax = plot_gam(gam_logit_, 2)\n",
    "ax.set_xlabel('Education')\n",
    "ax.set_ylabel('Effect on wage')\n",
    "ax.set_title('Partial dependence of high earner status on education', fontsize =20);\n",
    "ax.set_xticklabels(Wage['education']. cat. categories [1:], fontsize =8);\n",
    "plt.grid()"
   ]
  },
  {
   "cell_type": "code",
   "execution_count": null,
   "id": "51",
   "metadata": {},
   "outputs": [],
   "source": [
    "fig , ax = subplots(figsize =(8, 8))\n",
    "\n",
    "ax = plot_gam(gam_logit_, 1)\n",
    "ax.set_xlabel('Year')\n",
    "ax.set_ylabel('Effect on wage')\n",
    "ax.set_title('Partial dependence of high earner status on year', fontsize =20);\n",
    "plt.grid()"
   ]
  },
  {
   "cell_type": "code",
   "execution_count": null,
   "id": "52",
   "metadata": {},
   "outputs": [],
   "source": [
    "fig , ax = subplots (figsize =(8, 8))\n",
    "\n",
    "ax = plot_gam (gam_logit_, 0)\n",
    "ax.set_xlabel('Age')\n",
    "ax.set_ylabel('Effect on wage')\n",
    "ax.set_title('Partial dependence of high earner status on age', fontsize =20);\n",
    "plt.grid()"
   ]
  },
  {
   "cell_type": "markdown",
   "id": "53",
   "metadata": {},
   "source": [
    "#### Local Regression"
   ]
  },
  {
   "cell_type": "code",
   "execution_count": null,
   "id": "54",
   "metadata": {},
   "outputs": [],
   "source": [
    "lowess = sm.nonparametric.lowess\n",
    "\n",
    "fig , ax = subplots(figsize =(8, 8))\n",
    "ax.scatter(age, y, facecolor ='gray', alpha =0.5)\n",
    "\n",
    "for span in [0.2, 0.5]:\n",
    "    fitted = lowess(y,\n",
    "                    age,\n",
    "                    frac=span,\n",
    "                    xvals=age_grid)\n",
    "    ax.plot(age_grid,\n",
    "            fitted,\n",
    "            label='{:.1f}'.format(span),\n",
    "            linewidth=4)\n",
    "    ax. set_xlabel('Age', fontsize =20)\n",
    "    ax. set_ylabel('Wage', fontsize =20);\n",
    "    ax.legend(title='span', fontsize =15);\n",
    "    plt.grid()"
   ]
  },
  {
   "cell_type": "code",
   "execution_count": null,
   "id": "55",
   "metadata": {},
   "outputs": [],
   "source": []
  }
 ],
 "metadata": {
  "kernelspec": {
   "display_name": "Python [conda env:ISLP] *",
   "language": "python",
   "name": "conda-env-ISLP-py"
  },
  "language_info": {
   "codemirror_mode": {
    "name": "ipython",
    "version": 3
   },
   "file_extension": ".py",
   "mimetype": "text/x-python",
   "name": "python",
   "nbconvert_exporter": "python",
   "pygments_lexer": "ipython3",
   "version": "3.10.18"
  }
 },
 "nbformat": 4,
 "nbformat_minor": 5
}
