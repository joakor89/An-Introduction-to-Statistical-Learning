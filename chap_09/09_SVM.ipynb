{
 "cells": [
  {
   "cell_type": "markdown",
   "id": "0",
   "metadata": {},
   "source": [
    "# Support Vector Machines\n",
    "\n",
    "### Loading Libraries"
   ]
  },
  {
   "cell_type": "code",
   "execution_count": null,
   "id": "1",
   "metadata": {},
   "outputs": [],
   "source": [
    "# Numerical Computing\n",
    "import numpy as np\n",
    "\n",
    "# Data Manipulation\n",
    "import pandas as pd\n",
    "\n",
    "# Data Visualization\n",
    "import matplotlib.pyplot as plt\n",
    "from matplotlib.pyplot import subplots, cm\n",
    "\n",
    "# Scikit-Learn\n",
    "from sklearn.svm import SVC\n",
    "import sklearn. model_selection as skm\n",
    "from sklearn.metrics import RocCurveDisplay\n",
    "\n",
    "# ISLP\n",
    "from ISLP.svm import plot as plot_svm\n",
    "from ISLP import load_data, confusion_table"
   ]
  },
  {
   "cell_type": "code",
   "execution_count": null,
   "id": "2",
   "metadata": {},
   "outputs": [],
   "source": [
    "roc_curve = RocCurveDisplay.from_estimator # shorthand"
   ]
  },
  {
   "cell_type": "markdown",
   "id": "3",
   "metadata": {},
   "source": [
    "### Support Vector Classifier"
   ]
  },
  {
   "cell_type": "code",
   "execution_count": null,
   "id": "4",
   "metadata": {},
   "outputs": [],
   "source": [
    "rng = np.random.default_rng(1)\n",
    "\n",
    "X = rng.standard_normal((50, 2))\n",
    "y = np.array([-1]*25+[1]*25)\n",
    "X[y==1] += 1\n",
    "\n",
    "fig, ax = subplots(figsize =(8, 8))\n",
    "ax.scatter(X[:, 0],\n",
    "           X[:,1],\n",
    "           c=y,\n",
    "           cmap=cm. coolwarm );\n",
    "\n",
    "plt.grid(True)\n",
    "plt.show()"
   ]
  },
  {
   "cell_type": "code",
   "execution_count": null,
   "id": "5",
   "metadata": {},
   "outputs": [],
   "source": [
    "svm_linear = SVC(C=10, kernel='linear')\n",
    "svm_linear.fit(X, y)"
   ]
  },
  {
   "cell_type": "code",
   "execution_count": null,
   "id": "6",
   "metadata": {},
   "outputs": [],
   "source": [
    "fig, ax = subplots(figsize =(8, 8))\n",
    "plot_svm (X,\n",
    "          y,\n",
    "          svm_linear,\n",
    "          ax=ax)"
   ]
  },
  {
   "cell_type": "code",
   "execution_count": null,
   "id": "7",
   "metadata": {},
   "outputs": [],
   "source": [
    "svm_linear_small = SVC(C=0.1, kernel='linear')\n",
    "svm_linear_small.fit(X, y)\n",
    "fig, ax = subplots(figsize =(8, 8))\n",
    "\n",
    "plot_svm(X,\n",
    "         y,\n",
    "         svm_linear_small,\n",
    "         ax=ax)"
   ]
  },
  {
   "cell_type": "code",
   "execution_count": null,
   "id": "8",
   "metadata": {},
   "outputs": [],
   "source": [
    "svm_linear.coef_"
   ]
  },
  {
   "cell_type": "code",
   "execution_count": null,
   "id": "9",
   "metadata": {},
   "outputs": [],
   "source": [
    "kfold = skm.KFold(5,\n",
    "                  random_state=0,\n",
    "                  shuffle=True)\n",
    "\n",
    "grid = skm. GridSearchCV (svm_linear,\n",
    "                          {'C':[0.001, 0.01, 0.1, 1, 5, 10, 100]},\n",
    "                          refit=True,\n",
    "                          cv=kfold,\n",
    "                          scoring='accuracy')\n",
    "grid.fit(X, y)\n",
    "grid. best_params_"
   ]
  },
  {
   "cell_type": "code",
   "execution_count": null,
   "id": "10",
   "metadata": {},
   "outputs": [],
   "source": [
    "grid.cv_results_[('mean_test_score')]"
   ]
  },
  {
   "cell_type": "code",
   "execution_count": null,
   "id": "11",
   "metadata": {},
   "outputs": [],
   "source": [
    "X_test = rng.standard_normal((20, 2))\n",
    "y_test = np.array([-1]*10+[1]*10)\n",
    "\n",
    "X_test[y_test ==1] += 1"
   ]
  },
  {
   "cell_type": "code",
   "execution_count": null,
   "id": "12",
   "metadata": {},
   "outputs": [],
   "source": [
    "best_ = grid.best_estimator_\n",
    "y_test_hat = best_.predict(X_test)\n",
    "\n",
    "confusion_table(y_test_hat, y_test)"
   ]
  },
  {
   "cell_type": "code",
   "execution_count": null,
   "id": "13",
   "metadata": {},
   "outputs": [],
   "source": [
    "svm_ = SVC(C=0.001,\n",
    "           kernel='linear').fit(X, y)\n",
    "\n",
    "y_test_hat = svm_.predict(X_test)\n",
    "\n",
    "confusion_table (y_test_hat , y_test)"
   ]
  },
  {
   "cell_type": "code",
   "execution_count": null,
   "id": "14",
   "metadata": {},
   "outputs": [],
   "source": [
    "X[y==1] += 1.9;\n",
    "fig, ax = subplots(figsize=(8, 8))\n",
    "\n",
    "ax.scatter(X[:,0], X[:,1], c=y, cmap=cm. coolwarm);\n",
    "plt.grid(True)\n",
    "plt.show()"
   ]
  },
  {
   "cell_type": "code",
   "execution_count": null,
   "id": "15",
   "metadata": {},
   "outputs": [],
   "source": [
    "svm_ = SVC(C=1e5, kernel='linear').fit(X, y)\n",
    "y_hat = svm_.predict(X)\n",
    "\n",
    "confusion_table (y_hat, y)"
   ]
  },
  {
   "cell_type": "code",
   "execution_count": null,
   "id": "16",
   "metadata": {},
   "outputs": [],
   "source": [
    "fig, ax = subplots(figsize=(8, 8))\n",
    "\n",
    "plot_svm (X,\n",
    "          y,\n",
    "          svm_,\n",
    "          ax=ax)"
   ]
  },
  {
   "cell_type": "code",
   "execution_count": null,
   "id": "17",
   "metadata": {},
   "outputs": [],
   "source": [
    "svm_ = SVC(C=0.1, kernel='linear').fit(X, y)\n",
    "y_hat = svm_.predict(X)\n",
    "\n",
    "confusion_table(y_hat, y)"
   ]
  },
  {
   "cell_type": "code",
   "execution_count": null,
   "id": "18",
   "metadata": {},
   "outputs": [],
   "source": [
    "fig, ax = subplots(figsize=(8, 8))\n",
    "plot_svm(X,\n",
    "         y,\n",
    "         svm_,\n",
    "         ax=ax)"
   ]
  },
  {
   "cell_type": "markdown",
   "id": "19",
   "metadata": {},
   "source": [
    "### Support Vector Machine"
   ]
  },
  {
   "cell_type": "code",
   "execution_count": null,
   "id": "20",
   "metadata": {},
   "outputs": [],
   "source": [
    "X = rng. standard_normal((200, 2))\n",
    "X[:100] += 2\n",
    "X [100:150] -= 2\n",
    "\n",
    "y = np.array ([1]*150+[2]*50)"
   ]
  },
  {
   "cell_type": "code",
   "execution_count": null,
   "id": "21",
   "metadata": {},
   "outputs": [],
   "source": [
    "fig, ax = subplots(figsize =(8, 8))\n",
    "\n",
    "ax.scatter(X[:,0],\n",
    "           X[:,1],\n",
    "           c=y,\n",
    "           cmap=cm.coolwarm)\n",
    "\n",
    "plt.grid(True)\n",
    "plt.show()"
   ]
  },
  {
   "cell_type": "code",
   "execution_count": null,
   "id": "22",
   "metadata": {},
   "outputs": [],
   "source": []
  },
  {
   "cell_type": "code",
   "execution_count": null,
   "id": "23",
   "metadata": {},
   "outputs": [],
   "source": [
    "from sklearn import set_config\n",
    "\n",
    "set_config(display='text')  "
   ]
  },
  {
   "cell_type": "code",
   "execution_count": null,
   "id": "24",
   "metadata": {},
   "outputs": [],
   "source": [
    "(X_train,\n",
    " X_test,\n",
    " y_train,\n",
    " y_test) = skm.train_test_split(X,\n",
    "                                y,\n",
    "                                test_size=0.5,\n",
    "                                random_state=0)\n",
    "\n",
    "svm_rbf = SVC(kernel=\"rbf\", gamma=1, C=1)\n",
    "svm_rbf.fit(X_train, y_train)"
   ]
  },
  {
   "cell_type": "code",
   "execution_count": null,
   "id": "25",
   "metadata": {},
   "outputs": [],
   "source": [
    "fig, ax = subplots(figsize=(8, 8))\n",
    "\n",
    "plot_svm(X_train,\n",
    "         y_train,\n",
    "         svm_rbf,\n",
    "         ax=ax)"
   ]
  },
  {
   "cell_type": "code",
   "execution_count": null,
   "id": "26",
   "metadata": {},
   "outputs": [],
   "source": [
    "svm_rbf = SVC(kernel=\"rbf\", gamma =1, C=1e5)\n",
    "svm_rbf.fit(X_train, y_train)\n",
    "\n",
    "fig, ax = subplots(figsize=(8, 8))\n",
    "plot_svm(X_train,\n",
    "         y_train,\n",
    "         svm_rbf,\n",
    "         ax=ax)"
   ]
  },
  {
   "cell_type": "code",
   "execution_count": null,
   "id": "27",
   "metadata": {},
   "outputs": [],
   "source": [
    "kfold = skm.KFold(5,\n",
    "                  random_state=0,\n",
    "                  shuffle=True)\n",
    "grid = skm.GridSearchCV(svm_rbf,\n",
    "                        {'C':[0.1, 1, 10, 100, 1000],\n",
    "                         'gamma':[0.5, 1, 2, 3, 4]},\n",
    "                        refit=True,\n",
    "                        cv=kfold,\n",
    "                        scoring='accuracy');\n",
    "\n",
    "grid.fit(X_train, y_train)\n",
    "grid.best_params_"
   ]
  },
  {
   "cell_type": "code",
   "execution_count": null,
   "id": "28",
   "metadata": {},
   "outputs": [],
   "source": [
    "best_svm = grid.best_estimator_\n",
    "\n",
    "fig, ax = subplots(figsize=(8,8))\n",
    "\n",
    "plot_svm(X_train,\n",
    "         y_train,\n",
    "         best_svm,\n",
    "         ax=ax)\n",
    "\n",
    "y_hat_test = best_svm.predict(X_test)\n",
    "\n",
    "confusion_table(y_hat_test, y_test)"
   ]
  },
  {
   "cell_type": "code",
   "execution_count": null,
   "id": "29",
   "metadata": {},
   "outputs": [],
   "source": [
    "### ROC Curves"
   ]
  },
  {
   "cell_type": "code",
   "execution_count": null,
   "id": "30",
   "metadata": {},
   "outputs": [],
   "source": [
    "plt.grid(True)\n",
    "plt.show()"
   ]
  },
  {
   "cell_type": "code",
   "execution_count": null,
   "id": "31",
   "metadata": {},
   "outputs": [],
   "source": []
  },
  {
   "cell_type": "code",
   "execution_count": null,
   "id": "32",
   "metadata": {},
   "outputs": [],
   "source": []
  },
  {
   "cell_type": "code",
   "execution_count": null,
   "id": "33",
   "metadata": {},
   "outputs": [],
   "source": []
  },
  {
   "cell_type": "code",
   "execution_count": null,
   "id": "34",
   "metadata": {},
   "outputs": [],
   "source": []
  },
  {
   "cell_type": "code",
   "execution_count": null,
   "id": "35",
   "metadata": {},
   "outputs": [],
   "source": []
  },
  {
   "cell_type": "code",
   "execution_count": null,
   "id": "36",
   "metadata": {},
   "outputs": [],
   "source": []
  },
  {
   "cell_type": "code",
   "execution_count": null,
   "id": "37",
   "metadata": {},
   "outputs": [],
   "source": []
  },
  {
   "cell_type": "code",
   "execution_count": null,
   "id": "38",
   "metadata": {},
   "outputs": [],
   "source": []
  },
  {
   "cell_type": "code",
   "execution_count": null,
   "id": "39",
   "metadata": {},
   "outputs": [],
   "source": []
  },
  {
   "cell_type": "code",
   "execution_count": null,
   "id": "40",
   "metadata": {},
   "outputs": [],
   "source": []
  },
  {
   "cell_type": "code",
   "execution_count": null,
   "id": "41",
   "metadata": {},
   "outputs": [],
   "source": []
  }
 ],
 "metadata": {
  "kernelspec": {
   "display_name": "Python [conda env:ISLP] *",
   "language": "python",
   "name": "conda-env-ISLP-py"
  },
  "language_info": {
   "codemirror_mode": {
    "name": "ipython",
    "version": 3
   },
   "file_extension": ".py",
   "mimetype": "text/x-python",
   "name": "python",
   "nbconvert_exporter": "python",
   "pygments_lexer": "ipython3",
   "version": "3.10.18"
  }
 },
 "nbformat": 4,
 "nbformat_minor": 5
}
