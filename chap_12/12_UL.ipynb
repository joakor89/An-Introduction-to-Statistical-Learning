{
 "cells": [
  {
   "cell_type": "markdown",
   "id": "0",
   "metadata": {},
   "source": [
    "# Unsupervised Learning\n",
    "\n",
    "### Loading Libraries"
   ]
  },
  {
   "cell_type": "code",
   "execution_count": null,
   "id": "1",
   "metadata": {},
   "outputs": [],
   "source": [
    "# Numerical Computing\n",
    "import numpy as np\n",
    "\n",
    "# Data Manipulation\n",
    "import pandas as pd\n",
    "\n",
    "# Data Visualization\n",
    "import matplotlib.pyplot as plt\n",
    "\n",
    "# StatsModel\n",
    "from statsmodels. datasets import get_rdataset\n",
    "\n",
    "# SciPy\n",
    "from scipy.cluster. hierarchy import (dendrogram, cut_tree)\n",
    "\n",
    "# Scikit-Learn\n",
    "from sklearn. decomposition import PCA\n",
    "from sklearn. preprocessing import StandardScaler\n",
    "from sklearn.cluster import (KMeans, AgglomerativeClustering)\n",
    "\n",
    "# ISLP\n",
    "from ISLP import load_data\n",
    "from ISLP.cluster import compute_linkage"
   ]
  },
  {
   "cell_type": "markdown",
   "id": "2",
   "metadata": {},
   "source": [
    "### Principal Components Analysis"
   ]
  },
  {
   "cell_type": "code",
   "execution_count": null,
   "id": "3",
   "metadata": {},
   "outputs": [],
   "source": [
    "USArrests = get_rdataset('USArrests').data\n",
    "\n",
    "USArrests"
   ]
  },
  {
   "cell_type": "code",
   "execution_count": null,
   "id": "4",
   "metadata": {},
   "outputs": [],
   "source": [
    "USArrests.columns"
   ]
  },
  {
   "cell_type": "code",
   "execution_count": null,
   "id": "5",
   "metadata": {},
   "outputs": [],
   "source": [
    "USArrests.mean()"
   ]
  },
  {
   "cell_type": "code",
   "execution_count": null,
   "id": "6",
   "metadata": {},
   "outputs": [],
   "source": [
    "USArrests.var()"
   ]
  },
  {
   "cell_type": "code",
   "execution_count": null,
   "id": "7",
   "metadata": {},
   "outputs": [],
   "source": [
    "scaler = StandardScaler(with_std=True,\n",
    "                        with_mean=True)\n",
    "\n",
    "USArrests_scaled = scaler.fit_transform(USArrests)"
   ]
  },
  {
   "cell_type": "code",
   "execution_count": null,
   "id": "8",
   "metadata": {},
   "outputs": [],
   "source": [
    "pcaUS = PCA()"
   ]
  },
  {
   "cell_type": "code",
   "execution_count": null,
   "id": "9",
   "metadata": {},
   "outputs": [],
   "source": [
    "pcaUS.fit(USArrests_scaled)"
   ]
  },
  {
   "cell_type": "code",
   "execution_count": null,
   "id": "10",
   "metadata": {},
   "outputs": [],
   "source": [
    "pcaUS.mean_"
   ]
  },
  {
   "cell_type": "code",
   "execution_count": null,
   "id": "11",
   "metadata": {},
   "outputs": [],
   "source": [
    "scores = pcaUS.transform(USArrests_scaled)"
   ]
  },
  {
   "cell_type": "code",
   "execution_count": null,
   "id": "12",
   "metadata": {},
   "outputs": [],
   "source": [
    "pcaUS.components_"
   ]
  },
  {
   "cell_type": "code",
   "execution_count": null,
   "id": "13",
   "metadata": {},
   "outputs": [],
   "source": [
    "i, j = 0, 1 # which components\n",
    "fig, ax = plt.subplots(1, 1, figsize=(8, 8))\n",
    "\n",
    "ax.scatter(scores[:, 0], scores[:, 1])\n",
    "ax.set_xlabel('PC%d' % (i+1))\n",
    "ax.set_ylabel('PC%d' % (j+1))\n",
    "\n",
    "for k in range(pcaUS. components_.shape[1]):\n",
    "    ax.arrow (0, 0, pcaUS.components_[i, k], pcaUS.components_[j, k])\n",
    "    ax.text(pcaUS.components_[i, k],\n",
    "            pcaUS.components_[j, k],\n",
    "            USArrests.columns[k])\n",
    "\n",
    "plt.grid(True)\n",
    "plt.show()"
   ]
  },
  {
   "cell_type": "code",
   "execution_count": null,
   "id": "14",
   "metadata": {},
   "outputs": [],
   "source": [
    "scale_arrow = s_ = 2\n",
    "scores[:, 1] *= -1\n",
    "\n",
    "pcaUS.components_[1] *= -1 # flip the y-axis\n",
    "fig, ax = plt. subplots(1, 1, figsize=(8, 8))\n",
    "ax.scatter(scores[:, 0], scores[:, 1])\n",
    "ax.set_xlabel('PC%d' % (i+1))\n",
    "ax.set_ylabel('PC%d' % (j+1))\n",
    "\n",
    "for k in range(pcaUS.components_.shape[1]):\n",
    "    ax.arrow(0, 0, s_*pcaUS. components_[i,k], s_*pcaUS.components_[\n",
    "        j,k])\n",
    "    ax.text(s_*pcaUS.components_[i, k],\n",
    "            s_*pcaUS.components_[j, k],\n",
    "            USArrests.columns[k])\n",
    "\n",
    "plt.grid(True)\n",
    "plt.show()"
   ]
  },
  {
   "cell_type": "code",
   "execution_count": null,
   "id": "15",
   "metadata": {},
   "outputs": [],
   "source": [
    "scores.std(0, ddof =1)"
   ]
  },
  {
   "cell_type": "code",
   "execution_count": null,
   "id": "16",
   "metadata": {},
   "outputs": [],
   "source": [
    "pcaUS.explained_variance_"
   ]
  },
  {
   "cell_type": "code",
   "execution_count": null,
   "id": "17",
   "metadata": {},
   "outputs": [],
   "source": [
    "pcaUS.explained_variance_ratio_"
   ]
  },
  {
   "cell_type": "code",
   "execution_count": null,
   "id": "18",
   "metadata": {},
   "outputs": [],
   "source": [
    "%%capture\n",
    "fig, axes = plt. subplots(1, 2, figsize=(15, 6))\n",
    "\n",
    "ticks = np.arange(pcaUS.n_components_)+1\n",
    "ax = axes[0]\n",
    "ax.plot(ticks,\n",
    "        pcaUS.explained_variance_ratio_,\n",
    "        marker='o')\n",
    "ax.set_xlabel('Principal Component ');\n",
    "ax.set_ylabel('Proportion of Variance Explained ')\n",
    "ax.set_ylim([0 ,1])\n",
    "ax.set_xticks(ticks)"
   ]
  },
  {
   "cell_type": "code",
   "execution_count": null,
   "id": "19",
   "metadata": {},
   "outputs": [],
   "source": [
    "ax = axes [1]\n",
    "\n",
    "ax.plot(ticks,\n",
    "        pcaUS.explained_variance_ratio_.cumsum(),\n",
    "        marker='o')\n",
    "ax.set_xlabel('Principal Component')\n",
    "ax.set_ylabel('Cumulative Proportion of Variance Explained')\n",
    "ax.set_ylim([0, 1])\n",
    "ax.set_xticks(ticks)\n",
    "\n",
    "# plt.grid(True)\n",
    "# plt.show()\n",
    "fig"
   ]
  },
  {
   "cell_type": "code",
   "execution_count": null,
   "id": "20",
   "metadata": {},
   "outputs": [],
   "source": [
    "a = np.array([1, 2, 8, -3])\n",
    "\n",
    "np.cumsum(a)"
   ]
  },
  {
   "cell_type": "markdown",
   "id": "21",
   "metadata": {},
   "source": [
    "### Matrix Completion"
   ]
  },
  {
   "cell_type": "code",
   "execution_count": null,
   "id": "22",
   "metadata": {},
   "outputs": [],
   "source": [
    "X = USArrests_scaled\n",
    "\n",
    "U, D, V = np.linalg.svd(X, full_matrices =False)\n",
    "U.shape, D.shape, V.shape"
   ]
  },
  {
   "cell_type": "code",
   "execution_count": null,
   "id": "23",
   "metadata": {},
   "outputs": [],
   "source": [
    "V"
   ]
  },
  {
   "cell_type": "code",
   "execution_count": null,
   "id": "24",
   "metadata": {},
   "outputs": [],
   "source": [
    "pcaUS.components_"
   ]
  },
  {
   "cell_type": "code",
   "execution_count": null,
   "id": "25",
   "metadata": {},
   "outputs": [],
   "source": [
    "(U * D[None, :])[:3]"
   ]
  },
  {
   "cell_type": "code",
   "execution_count": null,
   "id": "26",
   "metadata": {},
   "outputs": [],
   "source": [
    "scores[:3]"
   ]
  },
  {
   "cell_type": "code",
   "execution_count": null,
   "id": "27",
   "metadata": {},
   "outputs": [],
   "source": [
    "n_omit = 20\n",
    "np.random.seed(15)\n",
    "\n",
    "r_idx = np.random.choice(np.arange(X.shape[0]),\n",
    "                         n_omit,\n",
    "                         replace=False)\n",
    "\n",
    "c_idx = np.random.choice(np.arange(X.shape[1]),\n",
    "                         n_omit,\n",
    "                         replace=True)\n",
    "\n",
    "Xna = X.copy()\n",
    "Xna[r_idx, c_idx] = np.nan"
   ]
  },
  {
   "cell_type": "code",
   "execution_count": null,
   "id": "28",
   "metadata": {},
   "outputs": [],
   "source": [
    "def low_rank(X, M=1):\n",
    "    U, D, V = np.linalg.svd(X)\n",
    "    L = U[:, :M] * D[None, :M]\n",
    "    return L.dot(V[:M])"
   ]
  },
  {
   "cell_type": "code",
   "execution_count": null,
   "id": "29",
   "metadata": {},
   "outputs": [],
   "source": [
    "Xhat = Xna.copy()\n",
    "\n",
    "Xbar = np.nanmean(Xhat, axis =0)\n",
    "\n",
    "Xhat[r_idx, c_idx] = Xbar[c_idx]"
   ]
  },
  {
   "cell_type": "code",
   "execution_count": null,
   "id": "30",
   "metadata": {},
   "outputs": [],
   "source": [
    "thresh = 1e-7\n",
    "rel_err = 1\n",
    "count = 0\n",
    "\n",
    "ismiss = np.isnan(Xna)\n",
    "mssold = np.mean(Xhat[~ismiss]**2)\n",
    "mss0 = np.mean(Xna[~ismiss]**2)"
   ]
  },
  {
   "cell_type": "code",
   "execution_count": null,
   "id": "31",
   "metadata": {},
   "outputs": [],
   "source": [
    "while rel_err > thresh:\n",
    "    count += 1\n",
    "    # Step 2(a)\n",
    "    Xapp = low_rank (Xhat, M=1)\n",
    "    # Step 2(b)\n",
    "    Xhat[ismiss] = Xapp[ismiss]\n",
    "    # Step 2(c)\n",
    "    mss = np.mean (((Xna - Xapp)[~ismiss])**2)\n",
    "    rel_err = (mssold - mss) / mss0\n",
    "    mssold = mss\n",
    "    print(\"Iteration : {0}, MSS :{1:.3f}, Rel.Err {2:.2e}\"\n",
    "        .format(count, mss, rel_err))"
   ]
  },
  {
   "cell_type": "code",
   "execution_count": null,
   "id": "32",
   "metadata": {},
   "outputs": [],
   "source": [
    "np. corrcoef(Xapp[ismiss], X[ismiss])[0, 1]"
   ]
  },
  {
   "cell_type": "markdown",
   "id": "33",
   "metadata": {},
   "source": [
    "### Clustering\n",
    "\n",
    "#### K-Means Clustering"
   ]
  },
  {
   "cell_type": "code",
   "execution_count": null,
   "id": "34",
   "metadata": {},
   "outputs": [],
   "source": [
    "np.random.seed(0);\n",
    "\n",
    "X = np.random.standard_normal((50, 2));\n",
    "\n",
    "X[:25, 0] += 3;\n",
    "X[:25, 1] -= 4;"
   ]
  },
  {
   "cell_type": "code",
   "execution_count": null,
   "id": "35",
   "metadata": {},
   "outputs": [],
   "source": [
    "kmeans = KMeans(n_clusters=2,\n",
    "                random_state=2,\n",
    "                n_init =20).fit(X)"
   ]
  },
  {
   "cell_type": "code",
   "execution_count": null,
   "id": "36",
   "metadata": {},
   "outputs": [],
   "source": [
    "kmeans.labels_"
   ]
  },
  {
   "cell_type": "code",
   "execution_count": null,
   "id": "37",
   "metadata": {},
   "outputs": [],
   "source": [
    "fig, ax = plt.subplots(1, 1, figsize=(8, 8))\n",
    "\n",
    "ax.scatter(X[:, 0], X[:, 1], c=kmeans.labels_)\n",
    "ax. set_title (\"K-Means Clustering Results with K=2\");\n",
    "\n",
    "plt.grid(True)\n",
    "plt.show()"
   ]
  },
  {
   "cell_type": "code",
   "execution_count": null,
   "id": "38",
   "metadata": {},
   "outputs": [],
   "source": [
    "kmeans = KMeans(n_clusters=3,\n",
    "                random_state=3,\n",
    "                n_init=20).fit(X)\n",
    "\n",
    "fig, ax = plt.subplots(figsize=(8, 8))\n",
    "ax.scatter(X[:, 0], X[:, 1], c=kmeans.labels_)\n",
    "ax. set_title (\"K-Means Clustering Results with K=3\");\n",
    "\n",
    "plt.grid(True)\n",
    "plt.show()"
   ]
  },
  {
   "cell_type": "code",
   "execution_count": null,
   "id": "39",
   "metadata": {},
   "outputs": [],
   "source": [
    "kmeans1 = KMeans(n_clusters=3,\n",
    "                 random_state=3,\n",
    "                 n_init =1).fit(X)\n",
    "\n",
    "kmeans20 = KMeans(n_clusters=3,\n",
    "                  random_state=3,\n",
    "                  n_init =20).fit(X);\n",
    "\n",
    "kmeans1.inertia_, kmeans20.inertia_"
   ]
  },
  {
   "cell_type": "code",
   "execution_count": null,
   "id": "40",
   "metadata": {},
   "outputs": [],
   "source": [
    "#### Hierarchical Clustering"
   ]
  },
  {
   "cell_type": "code",
   "execution_count": null,
   "id": "41",
   "metadata": {},
   "outputs": [],
   "source": []
  },
  {
   "cell_type": "code",
   "execution_count": null,
   "id": "42",
   "metadata": {},
   "outputs": [],
   "source": []
  },
  {
   "cell_type": "code",
   "execution_count": null,
   "id": "43",
   "metadata": {},
   "outputs": [],
   "source": []
  },
  {
   "cell_type": "code",
   "execution_count": null,
   "id": "44",
   "metadata": {},
   "outputs": [],
   "source": []
  },
  {
   "cell_type": "code",
   "execution_count": null,
   "id": "45",
   "metadata": {},
   "outputs": [],
   "source": []
  },
  {
   "cell_type": "code",
   "execution_count": null,
   "id": "46",
   "metadata": {},
   "outputs": [],
   "source": []
  },
  {
   "cell_type": "code",
   "execution_count": null,
   "id": "47",
   "metadata": {},
   "outputs": [],
   "source": []
  },
  {
   "cell_type": "code",
   "execution_count": null,
   "id": "48",
   "metadata": {},
   "outputs": [],
   "source": []
  },
  {
   "cell_type": "code",
   "execution_count": null,
   "id": "49",
   "metadata": {},
   "outputs": [],
   "source": []
  },
  {
   "cell_type": "code",
   "execution_count": null,
   "id": "50",
   "metadata": {},
   "outputs": [],
   "source": []
  },
  {
   "cell_type": "code",
   "execution_count": null,
   "id": "51",
   "metadata": {},
   "outputs": [],
   "source": []
  },
  {
   "cell_type": "code",
   "execution_count": null,
   "id": "52",
   "metadata": {},
   "outputs": [],
   "source": []
  },
  {
   "cell_type": "code",
   "execution_count": null,
   "id": "53",
   "metadata": {},
   "outputs": [],
   "source": []
  }
 ],
 "metadata": {
  "kernelspec": {
   "display_name": "Python [conda env:ISLP] *",
   "language": "python",
   "name": "conda-env-ISLP-py"
  },
  "language_info": {
   "codemirror_mode": {
    "name": "ipython",
    "version": 3
   },
   "file_extension": ".py",
   "mimetype": "text/x-python",
   "name": "python",
   "nbconvert_exporter": "python",
   "pygments_lexer": "ipython3",
   "version": "3.10.18"
  }
 },
 "nbformat": 4,
 "nbformat_minor": 5
}
